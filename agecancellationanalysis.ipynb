{
 "cells": [
  {
   "cell_type": "markdown",
   "source": [
    "## Init libraries"
   ],
   "metadata": {
    "collapsed": false,
    "pycharm": {
     "name": "#%% md\n"
    }
   }
  },
  {
   "cell_type": "code",
   "execution_count": 2,
   "outputs": [],
   "source": [
    "from collections import defaultdict\n",
    "from pathlib import Path\n",
    "import pandas as pd\n",
    "import numpy as np\n",
    "\n",
    "import scipy.stats as distributions\n",
    "from sklearn.neural_network import MLPRegressor\n",
    "from sklearn.ensemble import RandomForestRegressor, ExtraTreesRegressor\n",
    "\n",
    "from experiment import run_experiment, load_experiment,\\\n",
    "    plot_ranked_with_overfitting, plot_scores_splits, plot_predictions,\\\n",
    "    compare_models, build_compare_models_result,\\\n",
    "    plot_features_importance\n",
    "\n",
    "import utils\n",
    "import settings\n",
    "\n",
    "global_random_state = 2020"
   ],
   "metadata": {
    "collapsed": false,
    "pycharm": {
     "name": "#%%\n"
    }
   }
  },
  {
   "cell_type": "markdown",
   "source": [
    "## Preprocessing without data augmentation"
   ],
   "metadata": {
    "collapsed": false
   }
  },
  {
   "cell_type": "code",
   "execution_count": null,
   "outputs": [],
   "source": [
    "dataset_filename = R\"data/Dataset 17-02-20.csv\"\n",
    "df = pd.read_csv(dataset_filename, delimiter=\";\")\n",
    "\n",
    "# remove < sign from all cells\n",
    "remove_grt_sng = lambda x: str(x).replace('<', '')\n",
    "df = df.applymap(remove_grt_sng)\n",
    "\n",
    "# replace , in float with .\n",
    "replace_com_dot = lambda x: str(x).replace(',', '.')\n",
    "df = df.applymap(replace_com_dot)\n",
    "\n",
    "# replace with np.nan float nan values (str(1e400*0))\n",
    "replace_nan = lambda x: np.nan if x == str(1e400 * 0) else x\n",
    "df = df.applymap(replace_nan)\n",
    "\n",
    "df = df.drop(settings.drop_list, axis=1)\n",
    "df = utils.encode_categorical(df, settings.categorical_list)\n",
    "\n",
    "li_value = []\n",
    "li_eq = []\n",
    "# create new columns\n",
    "for index, row in df[['A AE G', 'Tot AE W', 'Age (G+W)']].iterrows():\n",
    "    if str(row[0]) != str(1e400 * 0):\n",
    "        li_value.append(row[0])\n",
    "        li_eq.append(float(row[0]) / float(row[2]))\n",
    "    elif str(row[1]) != str(1e400 * 0):\n",
    "        li_value.append(row[1])\n",
    "        li_eq.append(float(row[1]) / float(row[2]))\n",
    "    else:\n",
    "        li_value.append(np.nan)\n",
    "        li_eq.append(np.nan)\n",
    "df['Equivalent age'] = li_value\n",
    "df['Ratio age'] = li_eq\n",
    "\n",
    "df = df.drop(columns=df.loc[:, 'A AE G':'Subtest AE  W DI'].columns)\n",
    "\n",
    "df = df[pd.to_numeric(df['Equivalent age']) > 0]\n",
    "\n",
    "df = df.reset_index()\n",
    "\n",
    "df.drop(columns='index', inplace=True)\n",
    "\n",
    "df = utils.treat_nan(df)\n",
    "\n",
    "# df = utils.data_augmentation(df, 'Ratio age')\n",
    "\n",
    "utils.save(df, './data/aug_downsyndrom')\n",
    "\n",
    "# dividing training observation and target labels\n",
    "X = df.loc[:, df.columns != 'Ratio age']\n",
    "y = df['Ratio age']"
   ],
   "metadata": {
    "collapsed": false,
    "pycharm": {
     "name": "#%%\n"
    }
   }
  },
  {
   "cell_type": "markdown",
   "source": [
    "# Age cancellation analysis ( without data augmentation )"
   ],
   "metadata": {
    "collapsed": false
   }
  },
  {
   "cell_type": "code",
   "execution_count": 3,
   "outputs": [],
   "source": [
    "aug_dataset = Path(R\"data/aug_downsyndrom.csv\")\n",
    "\n",
    "if aug_dataset.exists():\n",
    "    df_to_transform = pd.read_csv(aug_dataset, delimiter=\";\")\n",
    "else:\n",
    "    raise RuntimeError(\"Run the cell before.\")"
   ],
   "metadata": {
    "collapsed": false,
    "pycharm": {
     "name": "#%%\n"
    }
   }
  },
  {
   "cell_type": "code",
   "execution_count": 4,
   "outputs": [],
   "source": [
    "# Set default paths\n",
    "root = \"results\"\n",
    "\n",
    "# Set default parameters\n",
    "mode = \"ratio\"\n",
    "scoring = \"neg_mean_squared_error\"\n",
    "input_attribute = \"Age (G+W)\"\n",
    "cv= 5\n",
    "n_iter = 5\n",
    "# important attributes\n",
    "attributes_to_highlight = [\n",
    "    \"Immunoglobuline A (mg/dl)\",\n",
    "    \"Homocysteine (µmol/L)\",\n",
    "    \"Creatinina (mg/dl)\",\n",
    "    \"CD19+ (PANB) /mmc\",\n",
    "    \"Sphincter Control at month\",\n",
    "    \"alanine\",\n",
    "    \"Eritrociti (10^6/mmc)\",\n",
    "    \"Started Walking at month\",\n",
    "    \"Tireotropina (microIU/ml)\",\n",
    "    \"Apgar Score 1'\",\n",
    "    \"Height cm\",\n",
    "    \"Weight Kg\"\n",
    "]\n",
    "# create dict of list for collecting all results with function build_compare_models_result\n",
    "groups_created = defaultdict(list)"
   ],
   "metadata": {
    "collapsed": false,
    "pycharm": {
     "name": "#%%\n"
    }
   }
  },
  {
   "cell_type": "markdown",
   "source": [
    "# Experiments\n",
    "- RandomForest\n",
    "- ExtraTrees\n",
    "- NeuralNetwork"
   ],
   "metadata": {
    "collapsed": false,
    "pycharm": {
     "name": "#%% md\n"
    }
   }
  },
  {
   "cell_type": "markdown",
   "source": [
    "## Random forest"
   ],
   "metadata": {
    "collapsed": false,
    "pycharm": {
     "name": "#%% md\n"
    }
   }
  },
  {
   "cell_type": "markdown",
   "source": [
    "### Baseline"
   ],
   "metadata": {
    "collapsed": false
   }
  },
  {
   "cell_type": "code",
   "execution_count": 4,
   "outputs": [
    {
     "name": "stdout",
     "output_type": "stream",
     "text": [
      "[INFO] experiment: Experiment RandomForest ( results\\RandomForest\\baseline )\n",
      "Changes:\n",
      "\t- baseline            \n",
      "Configuration:\t\n",
      "\t- mode                :\tratio\n",
      "\t- input_attribute     :\tAge (G+W)\n",
      "\t- base_estimator      :\tRandomForestRegressor(n_jobs=-1)\n",
      "\t- params_distribution :\t{'max_depth': <scipy.stats._distn_infrastructure.rv_frozen object at 0x000001960941F4F0>, 'n_estimators': <scipy.stats._distn_infrastructure.rv_frozen object at 0x000001960EACFD00>, 'min_samples_leaf': <scipy.stats._distn_infrastructure.rv_frozen object at 0x000001960E9A0FA0>, 'min_samples_split': <scipy.stats._distn_infrastructure.rv_frozen object at 0x000001960EACF0D0>}\n",
      "\t- n_iter              :\t5\n",
      "\t- cv                  :\t5\n",
      "\t- shuffle             :\tTrue\n",
      "\t- scoring             :\tneg_mean_squared_error\n",
      "\t- random_state        :\t2020\n",
      "\t- n_jobs              :\t-1\n",
      "[INFO] experiment: Performing attribute cancellation...\n",
      "[INFO] experiment: Saving dataframe...\n",
      "[INFO] experiment: Saving transformer...\n",
      "[INFO] experiment: Saving configuration...\n",
      "[INFO] experiment: Experiment complete.\n"
     ]
    },
    {
     "data": {
      "text/plain": "  0%|          | 0/200 [00:00<?, ?attribute/s]",
      "application/vnd.jupyter.widget-view+json": {
       "version_major": 2,
       "version_minor": 0,
       "model_id": "918de85f443a4767a79f21cfb499d900"
      }
     },
     "metadata": {},
     "output_type": "display_data"
    }
   ],
   "source": [
    "base_estimator = RandomForestRegressor(n_jobs=-1)\n",
    "params_distribution = dict(max_depth=distributions.randint(10,20),\n",
    "                               n_estimators=distributions.randint(30,50),\n",
    "                               min_samples_leaf=distributions.randint(20,30),\n",
    "                               min_samples_split=distributions.randint(20,30))\n",
    "\n",
    "\n",
    "config = dict(\n",
    "    mode=mode,\n",
    "    input_attribute=input_attribute,\n",
    "    base_estimator=base_estimator,\n",
    "    params_distribution=params_distribution,\n",
    "    n_iter=n_iter,\n",
    "    cv=cv,\n",
    "    shuffle=True,\n",
    "    scoring=scoring,\n",
    "    random_state=global_random_state,\n",
    "    n_jobs=-1\n",
    ")\n",
    "\n",
    "name = \"RandomForest\"\n",
    "changes = ['baseline']\n",
    "\n",
    "run_experiment(root, name, changes, df_to_transform, **config)\n",
    "groups_created[name].append(changes)"
   ],
   "metadata": {
    "collapsed": false,
    "pycharm": {
     "name": "#%%\n"
    }
   }
  },
  {
   "cell_type": "markdown",
   "source": [
    "### Changing parameters\n",
    "- Decreased max depth\n",
    "- Decreased number of decision trees"
   ],
   "metadata": {
    "collapsed": false,
    "pycharm": {
     "name": "#%% md\n"
    }
   }
  },
  {
   "cell_type": "code",
   "execution_count": 5,
   "outputs": [
    {
     "name": "stdout",
     "output_type": "stream",
     "text": [
      "[INFO] experiment: Experiment RandomForest ( results\\RandomForest\\max_depth_n_estimators )\n",
      "Changes:\n",
      "\t- max_depth           \n",
      "\t- n_estimators        \n",
      "Configuration:\t\n",
      "\t- mode                :\tratio\n",
      "\t- input_attribute     :\tAge (G+W)\n",
      "\t- base_estimator      :\tRandomForestRegressor(n_jobs=-1)\n",
      "\t- params_distribution :\t{'max_depth': <scipy.stats._distn_infrastructure.rv_frozen object at 0x000001961B577D90>, 'n_estimators': <scipy.stats._distn_infrastructure.rv_frozen object at 0x000001960E9DBEE0>, 'min_samples_leaf': <scipy.stats._distn_infrastructure.rv_frozen object at 0x000001961B70C880>, 'min_samples_split': <scipy.stats._distn_infrastructure.rv_frozen object at 0x000001960EA2C310>}\n",
      "\t- n_iter              :\t5\n",
      "\t- cv                  :\t5\n",
      "\t- shuffle             :\tTrue\n",
      "\t- scoring             :\tneg_mean_squared_error\n",
      "\t- random_state        :\t2020\n",
      "\t- n_jobs              :\t-1\n",
      "[INFO] experiment: Performing attribute cancellation...\n",
      "[INFO] experiment: Saving dataframe...\n",
      "[INFO] experiment: Saving transformer...\n",
      "[INFO] experiment: Saving configuration...\n",
      "[INFO] experiment: Experiment complete.\n"
     ]
    },
    {
     "data": {
      "text/plain": "  0%|          | 0/200 [00:00<?, ?attribute/s]",
      "application/vnd.jupyter.widget-view+json": {
       "version_major": 2,
       "version_minor": 0,
       "model_id": "0473ec0411a64ad59fa0c8fa638a14b1"
      }
     },
     "metadata": {},
     "output_type": "display_data"
    }
   ],
   "source": [
    "base_estimator = RandomForestRegressor(n_jobs=-1)\n",
    "params_distribution = dict(max_depth=distributions.randint(5,10),\n",
    "                               n_estimators=distributions.randint(20,30),\n",
    "                               min_samples_leaf=distributions.randint(20,30),\n",
    "                               min_samples_split=distributions.randint(20,30))\n",
    "\n",
    "\n",
    "config = dict(\n",
    "    mode=mode,\n",
    "    input_attribute=input_attribute,\n",
    "    base_estimator=base_estimator,\n",
    "    params_distribution=params_distribution,\n",
    "    n_iter=n_iter,\n",
    "    cv=cv,\n",
    "    shuffle=True,\n",
    "    scoring=scoring,\n",
    "    random_state=global_random_state,\n",
    "    n_jobs=-1\n",
    ")\n",
    "name = \"RandomForest\"\n",
    "changes = [\"max_depth\",\"n_estimators\"]\n",
    "\n",
    "run_experiment(root, name, changes, df_to_transform, **config)\n",
    "groups_created[name].append(changes)"
   ],
   "metadata": {
    "collapsed": false,
    "pycharm": {
     "name": "#%%\n"
    }
   }
  },
  {
   "cell_type": "markdown",
   "source": [
    "### Changing score function\n",
    "- Using MAE with Baseline"
   ],
   "metadata": {
    "collapsed": false,
    "pycharm": {
     "name": "#%% md\n"
    }
   }
  },
  {
   "cell_type": "code",
   "execution_count": 6,
   "outputs": [
    {
     "name": "stdout",
     "output_type": "stream",
     "text": [
      "[INFO] experiment: Experiment RandomForest ( results\\RandomForest\\mae )\n",
      "Changes:\n",
      "\t- mae                 \n",
      "Configuration:\t\n",
      "\t- mode                :\tratio\n",
      "\t- input_attribute     :\tAge (G+W)\n",
      "\t- base_estimator      :\tRandomForestRegressor(n_jobs=-1)\n",
      "\t- params_distribution :\t{'max_depth': <scipy.stats._distn_infrastructure.rv_frozen object at 0x000001961B8B4A90>, 'n_estimators': <scipy.stats._distn_infrastructure.rv_frozen object at 0x0000019618889130>, 'min_samples_leaf': <scipy.stats._distn_infrastructure.rv_frozen object at 0x000001961B8B4580>, 'min_samples_split': <scipy.stats._distn_infrastructure.rv_frozen object at 0x0000019616815B80>}\n",
      "\t- n_iter              :\t5\n",
      "\t- cv                  :\t5\n",
      "\t- shuffle             :\tTrue\n",
      "\t- scoring             :\tneg_mean_absolute_error\n",
      "\t- random_state        :\t2020\n",
      "\t- n_jobs              :\t-1\n",
      "[INFO] experiment: Performing attribute cancellation...\n",
      "[INFO] experiment: Saving dataframe...\n",
      "[INFO] experiment: Saving transformer...\n",
      "[INFO] experiment: Saving configuration...\n",
      "[INFO] experiment: Experiment complete.\n"
     ]
    },
    {
     "data": {
      "text/plain": "  0%|          | 0/200 [00:00<?, ?attribute/s]",
      "application/vnd.jupyter.widget-view+json": {
       "version_major": 2,
       "version_minor": 0,
       "model_id": "c622928a12454e07a0cb32101afc905a"
      }
     },
     "metadata": {},
     "output_type": "display_data"
    }
   ],
   "source": [
    "internal_scoring = \"neg_mean_absolute_error\"\n",
    "\n",
    "base_estimator = RandomForestRegressor(n_jobs=-1)\n",
    "params_distribution = dict(max_depth=distributions.randint(5,10),\n",
    "                               n_estimators=distributions.randint(20,30),\n",
    "                               min_samples_leaf=distributions.randint(20,30),\n",
    "                               min_samples_split=distributions.randint(20,30))\n",
    "\n",
    "\n",
    "config = dict(\n",
    "    mode=mode,\n",
    "    input_attribute=input_attribute,\n",
    "    base_estimator=base_estimator,\n",
    "    params_distribution=params_distribution,\n",
    "    n_iter=n_iter,\n",
    "    cv=cv,\n",
    "    shuffle=True,\n",
    "    scoring=internal_scoring,\n",
    "    random_state=global_random_state,\n",
    "    n_jobs=-1\n",
    ")\n",
    "name = \"RandomForest\"\n",
    "changes = [\"mae\"]\n",
    "\n",
    "run_experiment(root, name, changes, df_to_transform, **config)\n",
    "groups_created[name].append(changes)\n"
   ],
   "metadata": {
    "collapsed": false,
    "pycharm": {
     "name": "#%%\n"
    }
   }
  },
  {
   "cell_type": "markdown",
   "source": [
    "## Extra trees"
   ],
   "metadata": {
    "collapsed": false,
    "pycharm": {
     "name": "#%% md\n"
    }
   }
  },
  {
   "cell_type": "markdown",
   "source": [
    "### Baseline"
   ],
   "metadata": {
    "collapsed": false,
    "pycharm": {
     "name": "#%% md\n"
    }
   }
  },
  {
   "cell_type": "code",
   "execution_count": 7,
   "outputs": [
    {
     "name": "stdout",
     "output_type": "stream",
     "text": [
      "[INFO] experiment: Experiment ExtraTrees ( results\\ExtraTrees\\baseline )\n",
      "Changes:\n",
      "\t- baseline            \n",
      "Configuration:\t\n",
      "\t- mode                :\tratio\n",
      "\t- input_attribute     :\tAge (G+W)\n",
      "\t- base_estimator      :\tExtraTreesRegressor(n_jobs=-1)\n",
      "\t- params_distribution :\t{'max_depth': <scipy.stats._distn_infrastructure.rv_frozen object at 0x00000196131E8430>, 'n_estimators': <scipy.stats._distn_infrastructure.rv_frozen object at 0x000001961D922850>, 'min_samples_leaf': <scipy.stats._distn_infrastructure.rv_frozen object at 0x00000196131E8250>, 'min_samples_split': <scipy.stats._distn_infrastructure.rv_frozen object at 0x000001961D922C40>}\n",
      "\t- n_iter              :\t5\n",
      "\t- cv                  :\t5\n",
      "\t- shuffle             :\tTrue\n",
      "\t- scoring             :\tneg_mean_squared_error\n",
      "\t- random_state        :\t2020\n",
      "\t- n_jobs              :\t-1\n",
      "[INFO] experiment: Performing attribute cancellation...\n",
      "[INFO] experiment: Saving dataframe...\n",
      "[INFO] experiment: Saving transformer...\n",
      "[INFO] experiment: Saving configuration...\n",
      "[INFO] experiment: Experiment complete.\n"
     ]
    },
    {
     "data": {
      "text/plain": "  0%|          | 0/200 [00:00<?, ?attribute/s]",
      "application/vnd.jupyter.widget-view+json": {
       "version_major": 2,
       "version_minor": 0,
       "model_id": "8907cda12954417e952eb8a178e40c77"
      }
     },
     "metadata": {},
     "output_type": "display_data"
    }
   ],
   "source": [
    "base_estimator = ExtraTreesRegressor(n_jobs=-1)\n",
    "params_distribution = dict(max_depth=distributions.randint(10,20),\n",
    "                               n_estimators=distributions.randint(30,50),\n",
    "                               min_samples_leaf=distributions.randint(20,30),\n",
    "                               min_samples_split=distributions.randint(20,30))\n",
    "\n",
    "\n",
    "config = dict(\n",
    "    mode=mode,\n",
    "    input_attribute=input_attribute,\n",
    "    base_estimator=base_estimator,\n",
    "    params_distribution=params_distribution,\n",
    "    n_iter=n_iter,\n",
    "    cv=cv,\n",
    "    shuffle=True,\n",
    "    scoring=scoring,\n",
    "    random_state=global_random_state,\n",
    "    n_jobs=-1\n",
    ")\n",
    "\n",
    "name = \"ExtraTrees\"\n",
    "changes = ['baseline']\n",
    "\n",
    "run_experiment(root, name, changes, df_to_transform, **config)\n",
    "groups_created[name].append(changes)\n"
   ],
   "metadata": {
    "collapsed": false,
    "pycharm": {
     "name": "#%%\n"
    }
   }
  },
  {
   "cell_type": "markdown",
   "source": [
    "### Changing parameters\n",
    "- Decreased max depth\n",
    "- Decreased number of decision trees"
   ],
   "metadata": {
    "collapsed": false,
    "pycharm": {
     "name": "#%% md\n"
    }
   }
  },
  {
   "cell_type": "code",
   "execution_count": 8,
   "outputs": [
    {
     "name": "stdout",
     "output_type": "stream",
     "text": [
      "[INFO] experiment: Experiment ExtraTrees ( results\\ExtraTrees\\max_depth_n_estimators )\n",
      "Changes:\n",
      "\t- max_depth           \n",
      "\t- n_estimators        \n",
      "Configuration:\t\n",
      "\t- mode                :\tratio\n",
      "\t- input_attribute     :\tAge (G+W)\n",
      "\t- base_estimator      :\tExtraTreesRegressor(n_jobs=-1)\n",
      "\t- params_distribution :\t{'max_depth': <scipy.stats._distn_infrastructure.rv_frozen object at 0x000001961695C310>, 'n_estimators': <scipy.stats._distn_infrastructure.rv_frozen object at 0x00000196154F2F10>, 'min_samples_leaf': <scipy.stats._distn_infrastructure.rv_frozen object at 0x000001961695C970>, 'min_samples_split': <scipy.stats._distn_infrastructure.rv_frozen object at 0x00000196131DE940>}\n",
      "\t- n_iter              :\t5\n",
      "\t- cv                  :\t5\n",
      "\t- shuffle             :\tTrue\n",
      "\t- scoring             :\tneg_mean_squared_error\n",
      "\t- random_state        :\t2020\n",
      "\t- n_jobs              :\t-1\n",
      "[INFO] experiment: Performing attribute cancellation...\n",
      "[INFO] experiment: Saving dataframe...\n",
      "[INFO] experiment: Saving transformer...\n",
      "[INFO] experiment: Saving configuration...\n",
      "[INFO] experiment: Experiment complete.\n"
     ]
    },
    {
     "data": {
      "text/plain": "  0%|          | 0/200 [00:00<?, ?attribute/s]",
      "application/vnd.jupyter.widget-view+json": {
       "version_major": 2,
       "version_minor": 0,
       "model_id": "201cef49354945a3ba35851db306b5ae"
      }
     },
     "metadata": {},
     "output_type": "display_data"
    }
   ],
   "source": [
    "base_estimator = ExtraTreesRegressor(n_jobs=-1)\n",
    "params_distribution = dict(max_depth=distributions.randint(5,10),\n",
    "                               n_estimators=distributions.randint(20,30),\n",
    "                               min_samples_leaf=distributions.randint(20,30),\n",
    "                               min_samples_split=distributions.randint(20,30))\n",
    "\n",
    "\n",
    "config = dict(\n",
    "    mode=mode,\n",
    "    input_attribute=input_attribute,\n",
    "    base_estimator=base_estimator,\n",
    "    params_distribution=params_distribution,\n",
    "    n_iter=n_iter,\n",
    "    cv=cv,\n",
    "    shuffle=True,\n",
    "    scoring=scoring,\n",
    "    random_state=global_random_state,\n",
    "    n_jobs=-1\n",
    ")\n",
    "\n",
    "name = \"ExtraTrees\"\n",
    "changes = [\"max_depth\",\"n_estimators\"]\n",
    "\n",
    "run_experiment(root, name, changes, df_to_transform, **config)\n",
    "groups_created[name].append(changes)"
   ],
   "metadata": {
    "collapsed": false,
    "pycharm": {
     "name": "#%%\n"
    }
   }
  },
  {
   "cell_type": "markdown",
   "source": [
    "### Changing score\n",
    "- Using MAE"
   ],
   "metadata": {
    "collapsed": false,
    "pycharm": {
     "name": "#%% md\n"
    }
   }
  },
  {
   "cell_type": "code",
   "execution_count": 9,
   "outputs": [
    {
     "name": "stdout",
     "output_type": "stream",
     "text": [
      "[INFO] experiment: Experiment ExtraTrees ( results\\ExtraTrees\\mae )\n",
      "Changes:\n",
      "\t- mae                 \n",
      "Configuration:\t\n",
      "\t- mode                :\tratio\n",
      "\t- input_attribute     :\tAge (G+W)\n",
      "\t- base_estimator      :\tExtraTreesRegressor(n_jobs=-1)\n",
      "\t- params_distribution :\t{'max_depth': <scipy.stats._distn_infrastructure.rv_frozen object at 0x000001961DA49A60>, 'n_estimators': <scipy.stats._distn_infrastructure.rv_frozen object at 0x000001960F2E0E50>, 'min_samples_leaf': <scipy.stats._distn_infrastructure.rv_frozen object at 0x000001961DA49130>, 'min_samples_split': <scipy.stats._distn_infrastructure.rv_frozen object at 0x0000019615C84FD0>}\n",
      "\t- n_iter              :\t5\n",
      "\t- cv                  :\t5\n",
      "\t- shuffle             :\tTrue\n",
      "\t- scoring             :\tneg_mean_absolute_error\n",
      "\t- random_state        :\t2020\n",
      "\t- n_jobs              :\t-1\n",
      "[INFO] experiment: Performing attribute cancellation...\n",
      "[INFO] experiment: Saving dataframe...\n",
      "[INFO] experiment: Saving transformer...\n",
      "[INFO] experiment: Saving configuration...\n",
      "[INFO] experiment: Experiment complete.\n"
     ]
    },
    {
     "data": {
      "text/plain": "  0%|          | 0/200 [00:00<?, ?attribute/s]",
      "application/vnd.jupyter.widget-view+json": {
       "version_major": 2,
       "version_minor": 0,
       "model_id": "72e31659257445af8dd1dca8d1c7a0fa"
      }
     },
     "metadata": {},
     "output_type": "display_data"
    }
   ],
   "source": [
    "internal_scoring = \"neg_mean_absolute_error\"\n",
    "\n",
    "base_estimator = ExtraTreesRegressor(n_jobs=-1)\n",
    "params_distribution = dict(max_depth=distributions.randint(5,10),\n",
    "                               n_estimators=distributions.randint(20,30),\n",
    "                               min_samples_leaf=distributions.randint(20,30),\n",
    "                               min_samples_split=distributions.randint(20,30))\n",
    "\n",
    "\n",
    "config = dict(\n",
    "    mode=mode,\n",
    "    input_attribute=input_attribute,\n",
    "    base_estimator=base_estimator,\n",
    "    params_distribution=params_distribution,\n",
    "    n_iter=n_iter,\n",
    "    cv=cv,\n",
    "    shuffle=True,\n",
    "    scoring=internal_scoring,\n",
    "    random_state=global_random_state,\n",
    "    n_jobs=-1\n",
    ")\n",
    "name = \"ExtraTrees\"\n",
    "changes = [\"mae\"]\n",
    "\n",
    "run_experiment(root, name, changes, df_to_transform, **config)\n",
    "groups_created[name].append(changes)"
   ],
   "metadata": {
    "collapsed": false,
    "pycharm": {
     "name": "#%%\n"
    }
   }
  },
  {
   "cell_type": "markdown",
   "source": [
    "## Neural network"
   ],
   "metadata": {
    "collapsed": false
   }
  },
  {
   "cell_type": "markdown",
   "source": [
    "### One hidden layer"
   ],
   "metadata": {
    "collapsed": false,
    "pycharm": {
     "name": "#%% md\n"
    }
   }
  },
  {
   "cell_type": "code",
   "execution_count": 10,
   "outputs": [
    {
     "name": "stdout",
     "output_type": "stream",
     "text": [
      "[INFO] experiment: Experiment NeuralNetwork ( results\\NeuralNetwork\\baseline )\n",
      "Changes:\n",
      "\t- baseline            \n",
      "Configuration:\t\n",
      "\t- mode                :\tratio\n",
      "\t- input_attribute     :\tAge (G+W)\n",
      "\t- base_estimator      :\tMLPRegressor(early_stopping=True, max_iter=5000)\n",
      "\t- params_distribution :\t{'hidden_layer_sizes': <scipy.stats._distn_infrastructure.rv_frozen object at 0x0000019614DE6AC0>, 'solver': ['adam', 'sgd'], 'activation': ['relu', 'tanh', 'logistic']}\n",
      "\t- n_iter              :\t5\n",
      "\t- cv                  :\t5\n",
      "\t- shuffle             :\tTrue\n",
      "\t- scoring             :\tneg_mean_squared_error\n",
      "\t- random_state        :\t2020\n",
      "\t- n_jobs              :\t-1\n",
      "[INFO] experiment: Performing attribute cancellation...\n",
      "[INFO] experiment: Saving dataframe...\n",
      "[INFO] experiment: Saving transformer...\n",
      "[INFO] experiment: Saving configuration...\n",
      "[INFO] experiment: Experiment complete.\n"
     ]
    },
    {
     "data": {
      "text/plain": "  0%|          | 0/200 [00:00<?, ?attribute/s]",
      "application/vnd.jupyter.widget-view+json": {
       "version_major": 2,
       "version_minor": 0,
       "model_id": "81e73d9789ca43d0a27ea99549a1a9bc"
      }
     },
     "metadata": {},
     "output_type": "display_data"
    }
   ],
   "source": [
    "# no standardization applied\n",
    "base_estimator = MLPRegressor(early_stopping=True, max_iter=5000, learning_rate_init=1e-3)\n",
    "params_distribution = dict(hidden_layer_sizes=distributions.randint(30,60), solver=['adam','sgd'], activation=['relu', 'tanh', 'logistic'])\n",
    "\n",
    "config = dict(\n",
    "    mode=mode,\n",
    "    input_attribute=input_attribute,\n",
    "    base_estimator=base_estimator,\n",
    "    params_distribution=params_distribution,\n",
    "    n_iter=n_iter,\n",
    "    cv=cv,\n",
    "    shuffle=True,\n",
    "    scoring=scoring,\n",
    "    random_state=global_random_state,\n",
    "    n_jobs=-1\n",
    ")\n",
    "\n",
    "name = \"NeuralNetwork\"\n",
    "changes = [\"baseline\"]\n",
    "\n",
    "run_experiment(root, name, changes, df_to_transform, **config)\n",
    "groups_created[name].append(changes)"
   ],
   "metadata": {
    "collapsed": false,
    "pycharm": {
     "name": "#%%\n"
    }
   }
  },
  {
   "cell_type": "code",
   "execution_count": 11,
   "outputs": [
    {
     "name": "stdout",
     "output_type": "stream",
     "text": [
      "[INFO] experiment: Experiment NeuralNetwork ( results\\NeuralNetwork\\hidden_layer_sizes )\n",
      "Changes:\n",
      "\t- hidden_layer_sizes  \n",
      "Configuration:\t\n",
      "\t- mode                :\tratio\n",
      "\t- input_attribute     :\tAge (G+W)\n",
      "\t- base_estimator      :\tMLPRegressor(early_stopping=True, max_iter=5000)\n",
      "\t- params_distribution :\t{'hidden_layer_sizes': [(10, 10)], 'solver': ['sgd'], 'activation': ['relu', 'logistic']}\n",
      "\t- n_iter              :\t4\n",
      "\t- cv                  :\t5\n",
      "\t- shuffle             :\tTrue\n",
      "\t- scoring             :\tneg_mean_squared_error\n",
      "\t- random_state        :\t2020\n",
      "\t- n_jobs              :\t-1\n",
      "[INFO] experiment: Performing attribute cancellation...\n",
      "[INFO] experiment: Saving dataframe...\n",
      "[INFO] experiment: Saving transformer...\n",
      "[INFO] experiment: Saving configuration...\n",
      "[INFO] experiment: Experiment complete.\n"
     ]
    },
    {
     "data": {
      "text/plain": "  0%|          | 0/200 [00:00<?, ?attribute/s]",
      "application/vnd.jupyter.widget-view+json": {
       "version_major": 2,
       "version_minor": 0,
       "model_id": "384f4e74d3c64642a82d4e4dacc57003"
      }
     },
     "metadata": {},
     "output_type": "display_data"
    },
    {
     "name": "stderr",
     "output_type": "stream",
     "text": [
      "C:\\Users\\aless\\anaconda3\\envs\\ML4downsyndrome\\lib\\site-packages\\sklearn\\model_selection\\_search.py:285: UserWarning: The total space of parameters 2 is smaller than n_iter=4. Running 2 iterations. For exhaustive searches, use GridSearchCV.\n",
      "  warnings.warn(\n",
      "C:\\Users\\aless\\anaconda3\\envs\\ML4downsyndrome\\lib\\site-packages\\sklearn\\model_selection\\_search.py:285: UserWarning: The total space of parameters 2 is smaller than n_iter=4. Running 2 iterations. For exhaustive searches, use GridSearchCV.\n",
      "  warnings.warn(\n",
      "C:\\Users\\aless\\anaconda3\\envs\\ML4downsyndrome\\lib\\site-packages\\sklearn\\model_selection\\_search.py:285: UserWarning: The total space of parameters 2 is smaller than n_iter=4. Running 2 iterations. For exhaustive searches, use GridSearchCV.\n",
      "  warnings.warn(\n",
      "C:\\Users\\aless\\anaconda3\\envs\\ML4downsyndrome\\lib\\site-packages\\sklearn\\model_selection\\_search.py:285: UserWarning: The total space of parameters 2 is smaller than n_iter=4. Running 2 iterations. For exhaustive searches, use GridSearchCV.\n",
      "  warnings.warn(\n",
      "C:\\Users\\aless\\anaconda3\\envs\\ML4downsyndrome\\lib\\site-packages\\sklearn\\model_selection\\_search.py:285: UserWarning: The total space of parameters 2 is smaller than n_iter=4. Running 2 iterations. For exhaustive searches, use GridSearchCV.\n",
      "  warnings.warn(\n",
      "C:\\Users\\aless\\anaconda3\\envs\\ML4downsyndrome\\lib\\site-packages\\sklearn\\model_selection\\_search.py:285: UserWarning: The total space of parameters 2 is smaller than n_iter=4. Running 2 iterations. For exhaustive searches, use GridSearchCV.\n",
      "  warnings.warn(\n",
      "C:\\Users\\aless\\anaconda3\\envs\\ML4downsyndrome\\lib\\site-packages\\sklearn\\model_selection\\_search.py:285: UserWarning: The total space of parameters 2 is smaller than n_iter=4. Running 2 iterations. For exhaustive searches, use GridSearchCV.\n",
      "  warnings.warn(\n",
      "C:\\Users\\aless\\anaconda3\\envs\\ML4downsyndrome\\lib\\site-packages\\sklearn\\model_selection\\_search.py:285: UserWarning: The total space of parameters 2 is smaller than n_iter=4. Running 2 iterations. For exhaustive searches, use GridSearchCV.\n",
      "  warnings.warn(\n",
      "C:\\Users\\aless\\anaconda3\\envs\\ML4downsyndrome\\lib\\site-packages\\sklearn\\model_selection\\_search.py:285: UserWarning: The total space of parameters 2 is smaller than n_iter=4. Running 2 iterations. For exhaustive searches, use GridSearchCV.\n",
      "  warnings.warn(\n",
      "C:\\Users\\aless\\anaconda3\\envs\\ML4downsyndrome\\lib\\site-packages\\sklearn\\model_selection\\_search.py:285: UserWarning: The total space of parameters 2 is smaller than n_iter=4. Running 2 iterations. For exhaustive searches, use GridSearchCV.\n",
      "  warnings.warn(\n",
      "C:\\Users\\aless\\anaconda3\\envs\\ML4downsyndrome\\lib\\site-packages\\sklearn\\model_selection\\_search.py:285: UserWarning: The total space of parameters 2 is smaller than n_iter=4. Running 2 iterations. For exhaustive searches, use GridSearchCV.\n",
      "  warnings.warn(\n",
      "C:\\Users\\aless\\anaconda3\\envs\\ML4downsyndrome\\lib\\site-packages\\sklearn\\model_selection\\_search.py:285: UserWarning: The total space of parameters 2 is smaller than n_iter=4. Running 2 iterations. For exhaustive searches, use GridSearchCV.\n",
      "  warnings.warn(\n",
      "C:\\Users\\aless\\anaconda3\\envs\\ML4downsyndrome\\lib\\site-packages\\sklearn\\model_selection\\_search.py:285: UserWarning: The total space of parameters 2 is smaller than n_iter=4. Running 2 iterations. For exhaustive searches, use GridSearchCV.\n",
      "  warnings.warn(\n",
      "C:\\Users\\aless\\anaconda3\\envs\\ML4downsyndrome\\lib\\site-packages\\sklearn\\model_selection\\_search.py:285: UserWarning: The total space of parameters 2 is smaller than n_iter=4. Running 2 iterations. For exhaustive searches, use GridSearchCV.\n",
      "  warnings.warn(\n",
      "C:\\Users\\aless\\anaconda3\\envs\\ML4downsyndrome\\lib\\site-packages\\sklearn\\model_selection\\_search.py:285: UserWarning: The total space of parameters 2 is smaller than n_iter=4. Running 2 iterations. For exhaustive searches, use GridSearchCV.\n",
      "  warnings.warn(\n",
      "C:\\Users\\aless\\anaconda3\\envs\\ML4downsyndrome\\lib\\site-packages\\sklearn\\model_selection\\_search.py:285: UserWarning: The total space of parameters 2 is smaller than n_iter=4. Running 2 iterations. For exhaustive searches, use GridSearchCV.\n",
      "  warnings.warn(\n",
      "C:\\Users\\aless\\anaconda3\\envs\\ML4downsyndrome\\lib\\site-packages\\sklearn\\model_selection\\_search.py:285: UserWarning: The total space of parameters 2 is smaller than n_iter=4. Running 2 iterations. For exhaustive searches, use GridSearchCV.\n",
      "  warnings.warn(\n",
      "C:\\Users\\aless\\anaconda3\\envs\\ML4downsyndrome\\lib\\site-packages\\sklearn\\model_selection\\_search.py:285: UserWarning: The total space of parameters 2 is smaller than n_iter=4. Running 2 iterations. For exhaustive searches, use GridSearchCV.\n",
      "  warnings.warn(\n",
      "C:\\Users\\aless\\anaconda3\\envs\\ML4downsyndrome\\lib\\site-packages\\sklearn\\model_selection\\_search.py:285: UserWarning: The total space of parameters 2 is smaller than n_iter=4. Running 2 iterations. For exhaustive searches, use GridSearchCV.\n",
      "  warnings.warn(\n",
      "C:\\Users\\aless\\anaconda3\\envs\\ML4downsyndrome\\lib\\site-packages\\sklearn\\model_selection\\_search.py:285: UserWarning: The total space of parameters 2 is smaller than n_iter=4. Running 2 iterations. For exhaustive searches, use GridSearchCV.\n",
      "  warnings.warn(\n",
      "C:\\Users\\aless\\anaconda3\\envs\\ML4downsyndrome\\lib\\site-packages\\sklearn\\model_selection\\_search.py:285: UserWarning: The total space of parameters 2 is smaller than n_iter=4. Running 2 iterations. For exhaustive searches, use GridSearchCV.\n",
      "  warnings.warn(\n",
      "C:\\Users\\aless\\anaconda3\\envs\\ML4downsyndrome\\lib\\site-packages\\sklearn\\model_selection\\_search.py:285: UserWarning: The total space of parameters 2 is smaller than n_iter=4. Running 2 iterations. For exhaustive searches, use GridSearchCV.\n",
      "  warnings.warn(\n",
      "C:\\Users\\aless\\anaconda3\\envs\\ML4downsyndrome\\lib\\site-packages\\sklearn\\model_selection\\_search.py:285: UserWarning: The total space of parameters 2 is smaller than n_iter=4. Running 2 iterations. For exhaustive searches, use GridSearchCV.\n",
      "  warnings.warn(\n",
      "C:\\Users\\aless\\anaconda3\\envs\\ML4downsyndrome\\lib\\site-packages\\sklearn\\model_selection\\_search.py:285: UserWarning: The total space of parameters 2 is smaller than n_iter=4. Running 2 iterations. For exhaustive searches, use GridSearchCV.\n",
      "  warnings.warn(\n",
      "C:\\Users\\aless\\anaconda3\\envs\\ML4downsyndrome\\lib\\site-packages\\sklearn\\model_selection\\_search.py:285: UserWarning: The total space of parameters 2 is smaller than n_iter=4. Running 2 iterations. For exhaustive searches, use GridSearchCV.\n",
      "  warnings.warn(\n",
      "C:\\Users\\aless\\anaconda3\\envs\\ML4downsyndrome\\lib\\site-packages\\sklearn\\model_selection\\_search.py:285: UserWarning: The total space of parameters 2 is smaller than n_iter=4. Running 2 iterations. For exhaustive searches, use GridSearchCV.\n",
      "  warnings.warn(\n",
      "C:\\Users\\aless\\anaconda3\\envs\\ML4downsyndrome\\lib\\site-packages\\sklearn\\model_selection\\_search.py:285: UserWarning: The total space of parameters 2 is smaller than n_iter=4. Running 2 iterations. For exhaustive searches, use GridSearchCV.\n",
      "  warnings.warn(\n",
      "C:\\Users\\aless\\anaconda3\\envs\\ML4downsyndrome\\lib\\site-packages\\sklearn\\model_selection\\_search.py:285: UserWarning: The total space of parameters 2 is smaller than n_iter=4. Running 2 iterations. For exhaustive searches, use GridSearchCV.\n",
      "  warnings.warn(\n",
      "C:\\Users\\aless\\anaconda3\\envs\\ML4downsyndrome\\lib\\site-packages\\sklearn\\model_selection\\_search.py:285: UserWarning: The total space of parameters 2 is smaller than n_iter=4. Running 2 iterations. For exhaustive searches, use GridSearchCV.\n",
      "  warnings.warn(\n",
      "C:\\Users\\aless\\anaconda3\\envs\\ML4downsyndrome\\lib\\site-packages\\sklearn\\model_selection\\_search.py:285: UserWarning: The total space of parameters 2 is smaller than n_iter=4. Running 2 iterations. For exhaustive searches, use GridSearchCV.\n",
      "  warnings.warn(\n",
      "C:\\Users\\aless\\anaconda3\\envs\\ML4downsyndrome\\lib\\site-packages\\sklearn\\model_selection\\_search.py:285: UserWarning: The total space of parameters 2 is smaller than n_iter=4. Running 2 iterations. For exhaustive searches, use GridSearchCV.\n",
      "  warnings.warn(\n",
      "C:\\Users\\aless\\anaconda3\\envs\\ML4downsyndrome\\lib\\site-packages\\sklearn\\model_selection\\_search.py:285: UserWarning: The total space of parameters 2 is smaller than n_iter=4. Running 2 iterations. For exhaustive searches, use GridSearchCV.\n",
      "  warnings.warn(\n",
      "C:\\Users\\aless\\anaconda3\\envs\\ML4downsyndrome\\lib\\site-packages\\sklearn\\model_selection\\_search.py:285: UserWarning: The total space of parameters 2 is smaller than n_iter=4. Running 2 iterations. For exhaustive searches, use GridSearchCV.\n",
      "  warnings.warn(\n",
      "C:\\Users\\aless\\anaconda3\\envs\\ML4downsyndrome\\lib\\site-packages\\sklearn\\model_selection\\_search.py:285: UserWarning: The total space of parameters 2 is smaller than n_iter=4. Running 2 iterations. For exhaustive searches, use GridSearchCV.\n",
      "  warnings.warn(\n",
      "C:\\Users\\aless\\anaconda3\\envs\\ML4downsyndrome\\lib\\site-packages\\sklearn\\model_selection\\_search.py:285: UserWarning: The total space of parameters 2 is smaller than n_iter=4. Running 2 iterations. For exhaustive searches, use GridSearchCV.\n",
      "  warnings.warn(\n",
      "C:\\Users\\aless\\anaconda3\\envs\\ML4downsyndrome\\lib\\site-packages\\sklearn\\model_selection\\_search.py:285: UserWarning: The total space of parameters 2 is smaller than n_iter=4. Running 2 iterations. For exhaustive searches, use GridSearchCV.\n",
      "  warnings.warn(\n",
      "C:\\Users\\aless\\anaconda3\\envs\\ML4downsyndrome\\lib\\site-packages\\sklearn\\model_selection\\_search.py:285: UserWarning: The total space of parameters 2 is smaller than n_iter=4. Running 2 iterations. For exhaustive searches, use GridSearchCV.\n",
      "  warnings.warn(\n",
      "C:\\Users\\aless\\anaconda3\\envs\\ML4downsyndrome\\lib\\site-packages\\sklearn\\model_selection\\_search.py:285: UserWarning: The total space of parameters 2 is smaller than n_iter=4. Running 2 iterations. For exhaustive searches, use GridSearchCV.\n",
      "  warnings.warn(\n",
      "C:\\Users\\aless\\anaconda3\\envs\\ML4downsyndrome\\lib\\site-packages\\sklearn\\model_selection\\_search.py:285: UserWarning: The total space of parameters 2 is smaller than n_iter=4. Running 2 iterations. For exhaustive searches, use GridSearchCV.\n",
      "  warnings.warn(\n",
      "C:\\Users\\aless\\anaconda3\\envs\\ML4downsyndrome\\lib\\site-packages\\sklearn\\model_selection\\_search.py:285: UserWarning: The total space of parameters 2 is smaller than n_iter=4. Running 2 iterations. For exhaustive searches, use GridSearchCV.\n",
      "  warnings.warn(\n",
      "C:\\Users\\aless\\anaconda3\\envs\\ML4downsyndrome\\lib\\site-packages\\sklearn\\model_selection\\_search.py:285: UserWarning: The total space of parameters 2 is smaller than n_iter=4. Running 2 iterations. For exhaustive searches, use GridSearchCV.\n",
      "  warnings.warn(\n",
      "C:\\Users\\aless\\anaconda3\\envs\\ML4downsyndrome\\lib\\site-packages\\sklearn\\model_selection\\_search.py:285: UserWarning: The total space of parameters 2 is smaller than n_iter=4. Running 2 iterations. For exhaustive searches, use GridSearchCV.\n",
      "  warnings.warn(\n",
      "C:\\Users\\aless\\anaconda3\\envs\\ML4downsyndrome\\lib\\site-packages\\sklearn\\model_selection\\_search.py:285: UserWarning: The total space of parameters 2 is smaller than n_iter=4. Running 2 iterations. For exhaustive searches, use GridSearchCV.\n",
      "  warnings.warn(\n",
      "C:\\Users\\aless\\anaconda3\\envs\\ML4downsyndrome\\lib\\site-packages\\sklearn\\model_selection\\_search.py:285: UserWarning: The total space of parameters 2 is smaller than n_iter=4. Running 2 iterations. For exhaustive searches, use GridSearchCV.\n",
      "  warnings.warn(\n",
      "C:\\Users\\aless\\anaconda3\\envs\\ML4downsyndrome\\lib\\site-packages\\sklearn\\model_selection\\_search.py:285: UserWarning: The total space of parameters 2 is smaller than n_iter=4. Running 2 iterations. For exhaustive searches, use GridSearchCV.\n",
      "  warnings.warn(\n",
      "C:\\Users\\aless\\anaconda3\\envs\\ML4downsyndrome\\lib\\site-packages\\sklearn\\model_selection\\_search.py:285: UserWarning: The total space of parameters 2 is smaller than n_iter=4. Running 2 iterations. For exhaustive searches, use GridSearchCV.\n",
      "  warnings.warn(\n",
      "C:\\Users\\aless\\anaconda3\\envs\\ML4downsyndrome\\lib\\site-packages\\sklearn\\model_selection\\_search.py:285: UserWarning: The total space of parameters 2 is smaller than n_iter=4. Running 2 iterations. For exhaustive searches, use GridSearchCV.\n",
      "  warnings.warn(\n",
      "C:\\Users\\aless\\anaconda3\\envs\\ML4downsyndrome\\lib\\site-packages\\sklearn\\model_selection\\_search.py:285: UserWarning: The total space of parameters 2 is smaller than n_iter=4. Running 2 iterations. For exhaustive searches, use GridSearchCV.\n",
      "  warnings.warn(\n",
      "C:\\Users\\aless\\anaconda3\\envs\\ML4downsyndrome\\lib\\site-packages\\sklearn\\model_selection\\_search.py:285: UserWarning: The total space of parameters 2 is smaller than n_iter=4. Running 2 iterations. For exhaustive searches, use GridSearchCV.\n",
      "  warnings.warn(\n",
      "C:\\Users\\aless\\anaconda3\\envs\\ML4downsyndrome\\lib\\site-packages\\sklearn\\model_selection\\_search.py:285: UserWarning: The total space of parameters 2 is smaller than n_iter=4. Running 2 iterations. For exhaustive searches, use GridSearchCV.\n",
      "  warnings.warn(\n",
      "C:\\Users\\aless\\anaconda3\\envs\\ML4downsyndrome\\lib\\site-packages\\sklearn\\model_selection\\_search.py:285: UserWarning: The total space of parameters 2 is smaller than n_iter=4. Running 2 iterations. For exhaustive searches, use GridSearchCV.\n",
      "  warnings.warn(\n",
      "C:\\Users\\aless\\anaconda3\\envs\\ML4downsyndrome\\lib\\site-packages\\sklearn\\model_selection\\_search.py:285: UserWarning: The total space of parameters 2 is smaller than n_iter=4. Running 2 iterations. For exhaustive searches, use GridSearchCV.\n",
      "  warnings.warn(\n",
      "C:\\Users\\aless\\anaconda3\\envs\\ML4downsyndrome\\lib\\site-packages\\sklearn\\model_selection\\_search.py:285: UserWarning: The total space of parameters 2 is smaller than n_iter=4. Running 2 iterations. For exhaustive searches, use GridSearchCV.\n",
      "  warnings.warn(\n",
      "C:\\Users\\aless\\anaconda3\\envs\\ML4downsyndrome\\lib\\site-packages\\sklearn\\model_selection\\_search.py:285: UserWarning: The total space of parameters 2 is smaller than n_iter=4. Running 2 iterations. For exhaustive searches, use GridSearchCV.\n",
      "  warnings.warn(\n",
      "C:\\Users\\aless\\anaconda3\\envs\\ML4downsyndrome\\lib\\site-packages\\sklearn\\model_selection\\_search.py:285: UserWarning: The total space of parameters 2 is smaller than n_iter=4. Running 2 iterations. For exhaustive searches, use GridSearchCV.\n",
      "  warnings.warn(\n",
      "C:\\Users\\aless\\anaconda3\\envs\\ML4downsyndrome\\lib\\site-packages\\sklearn\\model_selection\\_search.py:285: UserWarning: The total space of parameters 2 is smaller than n_iter=4. Running 2 iterations. For exhaustive searches, use GridSearchCV.\n",
      "  warnings.warn(\n",
      "C:\\Users\\aless\\anaconda3\\envs\\ML4downsyndrome\\lib\\site-packages\\sklearn\\model_selection\\_search.py:285: UserWarning: The total space of parameters 2 is smaller than n_iter=4. Running 2 iterations. For exhaustive searches, use GridSearchCV.\n",
      "  warnings.warn(\n",
      "C:\\Users\\aless\\anaconda3\\envs\\ML4downsyndrome\\lib\\site-packages\\sklearn\\model_selection\\_search.py:285: UserWarning: The total space of parameters 2 is smaller than n_iter=4. Running 2 iterations. For exhaustive searches, use GridSearchCV.\n",
      "  warnings.warn(\n",
      "C:\\Users\\aless\\anaconda3\\envs\\ML4downsyndrome\\lib\\site-packages\\sklearn\\model_selection\\_search.py:285: UserWarning: The total space of parameters 2 is smaller than n_iter=4. Running 2 iterations. For exhaustive searches, use GridSearchCV.\n",
      "  warnings.warn(\n",
      "C:\\Users\\aless\\anaconda3\\envs\\ML4downsyndrome\\lib\\site-packages\\sklearn\\model_selection\\_search.py:285: UserWarning: The total space of parameters 2 is smaller than n_iter=4. Running 2 iterations. For exhaustive searches, use GridSearchCV.\n",
      "  warnings.warn(\n",
      "C:\\Users\\aless\\anaconda3\\envs\\ML4downsyndrome\\lib\\site-packages\\sklearn\\model_selection\\_search.py:285: UserWarning: The total space of parameters 2 is smaller than n_iter=4. Running 2 iterations. For exhaustive searches, use GridSearchCV.\n",
      "  warnings.warn(\n",
      "C:\\Users\\aless\\anaconda3\\envs\\ML4downsyndrome\\lib\\site-packages\\sklearn\\model_selection\\_search.py:285: UserWarning: The total space of parameters 2 is smaller than n_iter=4. Running 2 iterations. For exhaustive searches, use GridSearchCV.\n",
      "  warnings.warn(\n",
      "C:\\Users\\aless\\anaconda3\\envs\\ML4downsyndrome\\lib\\site-packages\\sklearn\\model_selection\\_search.py:285: UserWarning: The total space of parameters 2 is smaller than n_iter=4. Running 2 iterations. For exhaustive searches, use GridSearchCV.\n",
      "  warnings.warn(\n",
      "C:\\Users\\aless\\anaconda3\\envs\\ML4downsyndrome\\lib\\site-packages\\sklearn\\model_selection\\_search.py:285: UserWarning: The total space of parameters 2 is smaller than n_iter=4. Running 2 iterations. For exhaustive searches, use GridSearchCV.\n",
      "  warnings.warn(\n",
      "C:\\Users\\aless\\anaconda3\\envs\\ML4downsyndrome\\lib\\site-packages\\sklearn\\model_selection\\_search.py:285: UserWarning: The total space of parameters 2 is smaller than n_iter=4. Running 2 iterations. For exhaustive searches, use GridSearchCV.\n",
      "  warnings.warn(\n",
      "C:\\Users\\aless\\anaconda3\\envs\\ML4downsyndrome\\lib\\site-packages\\sklearn\\model_selection\\_search.py:285: UserWarning: The total space of parameters 2 is smaller than n_iter=4. Running 2 iterations. For exhaustive searches, use GridSearchCV.\n",
      "  warnings.warn(\n",
      "C:\\Users\\aless\\anaconda3\\envs\\ML4downsyndrome\\lib\\site-packages\\sklearn\\model_selection\\_search.py:285: UserWarning: The total space of parameters 2 is smaller than n_iter=4. Running 2 iterations. For exhaustive searches, use GridSearchCV.\n",
      "  warnings.warn(\n",
      "C:\\Users\\aless\\anaconda3\\envs\\ML4downsyndrome\\lib\\site-packages\\sklearn\\model_selection\\_search.py:285: UserWarning: The total space of parameters 2 is smaller than n_iter=4. Running 2 iterations. For exhaustive searches, use GridSearchCV.\n",
      "  warnings.warn(\n",
      "C:\\Users\\aless\\anaconda3\\envs\\ML4downsyndrome\\lib\\site-packages\\sklearn\\model_selection\\_search.py:285: UserWarning: The total space of parameters 2 is smaller than n_iter=4. Running 2 iterations. For exhaustive searches, use GridSearchCV.\n",
      "  warnings.warn(\n",
      "C:\\Users\\aless\\anaconda3\\envs\\ML4downsyndrome\\lib\\site-packages\\sklearn\\model_selection\\_search.py:285: UserWarning: The total space of parameters 2 is smaller than n_iter=4. Running 2 iterations. For exhaustive searches, use GridSearchCV.\n",
      "  warnings.warn(\n",
      "C:\\Users\\aless\\anaconda3\\envs\\ML4downsyndrome\\lib\\site-packages\\sklearn\\model_selection\\_search.py:285: UserWarning: The total space of parameters 2 is smaller than n_iter=4. Running 2 iterations. For exhaustive searches, use GridSearchCV.\n",
      "  warnings.warn(\n",
      "C:\\Users\\aless\\anaconda3\\envs\\ML4downsyndrome\\lib\\site-packages\\sklearn\\model_selection\\_search.py:285: UserWarning: The total space of parameters 2 is smaller than n_iter=4. Running 2 iterations. For exhaustive searches, use GridSearchCV.\n",
      "  warnings.warn(\n",
      "C:\\Users\\aless\\anaconda3\\envs\\ML4downsyndrome\\lib\\site-packages\\sklearn\\model_selection\\_search.py:285: UserWarning: The total space of parameters 2 is smaller than n_iter=4. Running 2 iterations. For exhaustive searches, use GridSearchCV.\n",
      "  warnings.warn(\n",
      "C:\\Users\\aless\\anaconda3\\envs\\ML4downsyndrome\\lib\\site-packages\\sklearn\\model_selection\\_search.py:285: UserWarning: The total space of parameters 2 is smaller than n_iter=4. Running 2 iterations. For exhaustive searches, use GridSearchCV.\n",
      "  warnings.warn(\n",
      "C:\\Users\\aless\\anaconda3\\envs\\ML4downsyndrome\\lib\\site-packages\\sklearn\\model_selection\\_search.py:285: UserWarning: The total space of parameters 2 is smaller than n_iter=4. Running 2 iterations. For exhaustive searches, use GridSearchCV.\n",
      "  warnings.warn(\n",
      "C:\\Users\\aless\\anaconda3\\envs\\ML4downsyndrome\\lib\\site-packages\\sklearn\\model_selection\\_search.py:285: UserWarning: The total space of parameters 2 is smaller than n_iter=4. Running 2 iterations. For exhaustive searches, use GridSearchCV.\n",
      "  warnings.warn(\n",
      "C:\\Users\\aless\\anaconda3\\envs\\ML4downsyndrome\\lib\\site-packages\\sklearn\\model_selection\\_search.py:285: UserWarning: The total space of parameters 2 is smaller than n_iter=4. Running 2 iterations. For exhaustive searches, use GridSearchCV.\n",
      "  warnings.warn(\n",
      "C:\\Users\\aless\\anaconda3\\envs\\ML4downsyndrome\\lib\\site-packages\\sklearn\\model_selection\\_search.py:285: UserWarning: The total space of parameters 2 is smaller than n_iter=4. Running 2 iterations. For exhaustive searches, use GridSearchCV.\n",
      "  warnings.warn(\n",
      "C:\\Users\\aless\\anaconda3\\envs\\ML4downsyndrome\\lib\\site-packages\\sklearn\\model_selection\\_search.py:285: UserWarning: The total space of parameters 2 is smaller than n_iter=4. Running 2 iterations. For exhaustive searches, use GridSearchCV.\n",
      "  warnings.warn(\n",
      "C:\\Users\\aless\\anaconda3\\envs\\ML4downsyndrome\\lib\\site-packages\\sklearn\\model_selection\\_search.py:285: UserWarning: The total space of parameters 2 is smaller than n_iter=4. Running 2 iterations. For exhaustive searches, use GridSearchCV.\n",
      "  warnings.warn(\n",
      "C:\\Users\\aless\\anaconda3\\envs\\ML4downsyndrome\\lib\\site-packages\\sklearn\\model_selection\\_search.py:285: UserWarning: The total space of parameters 2 is smaller than n_iter=4. Running 2 iterations. For exhaustive searches, use GridSearchCV.\n",
      "  warnings.warn(\n",
      "C:\\Users\\aless\\anaconda3\\envs\\ML4downsyndrome\\lib\\site-packages\\sklearn\\model_selection\\_search.py:285: UserWarning: The total space of parameters 2 is smaller than n_iter=4. Running 2 iterations. For exhaustive searches, use GridSearchCV.\n",
      "  warnings.warn(\n",
      "C:\\Users\\aless\\anaconda3\\envs\\ML4downsyndrome\\lib\\site-packages\\sklearn\\model_selection\\_search.py:285: UserWarning: The total space of parameters 2 is smaller than n_iter=4. Running 2 iterations. For exhaustive searches, use GridSearchCV.\n",
      "  warnings.warn(\n",
      "C:\\Users\\aless\\anaconda3\\envs\\ML4downsyndrome\\lib\\site-packages\\sklearn\\model_selection\\_search.py:285: UserWarning: The total space of parameters 2 is smaller than n_iter=4. Running 2 iterations. For exhaustive searches, use GridSearchCV.\n",
      "  warnings.warn(\n",
      "C:\\Users\\aless\\anaconda3\\envs\\ML4downsyndrome\\lib\\site-packages\\sklearn\\model_selection\\_search.py:285: UserWarning: The total space of parameters 2 is smaller than n_iter=4. Running 2 iterations. For exhaustive searches, use GridSearchCV.\n",
      "  warnings.warn(\n",
      "C:\\Users\\aless\\anaconda3\\envs\\ML4downsyndrome\\lib\\site-packages\\sklearn\\model_selection\\_search.py:285: UserWarning: The total space of parameters 2 is smaller than n_iter=4. Running 2 iterations. For exhaustive searches, use GridSearchCV.\n",
      "  warnings.warn(\n",
      "C:\\Users\\aless\\anaconda3\\envs\\ML4downsyndrome\\lib\\site-packages\\sklearn\\model_selection\\_search.py:285: UserWarning: The total space of parameters 2 is smaller than n_iter=4. Running 2 iterations. For exhaustive searches, use GridSearchCV.\n",
      "  warnings.warn(\n",
      "C:\\Users\\aless\\anaconda3\\envs\\ML4downsyndrome\\lib\\site-packages\\sklearn\\model_selection\\_search.py:285: UserWarning: The total space of parameters 2 is smaller than n_iter=4. Running 2 iterations. For exhaustive searches, use GridSearchCV.\n",
      "  warnings.warn(\n",
      "C:\\Users\\aless\\anaconda3\\envs\\ML4downsyndrome\\lib\\site-packages\\sklearn\\model_selection\\_search.py:285: UserWarning: The total space of parameters 2 is smaller than n_iter=4. Running 2 iterations. For exhaustive searches, use GridSearchCV.\n",
      "  warnings.warn(\n",
      "C:\\Users\\aless\\anaconda3\\envs\\ML4downsyndrome\\lib\\site-packages\\sklearn\\model_selection\\_search.py:285: UserWarning: The total space of parameters 2 is smaller than n_iter=4. Running 2 iterations. For exhaustive searches, use GridSearchCV.\n",
      "  warnings.warn(\n",
      "C:\\Users\\aless\\anaconda3\\envs\\ML4downsyndrome\\lib\\site-packages\\sklearn\\model_selection\\_search.py:285: UserWarning: The total space of parameters 2 is smaller than n_iter=4. Running 2 iterations. For exhaustive searches, use GridSearchCV.\n",
      "  warnings.warn(\n",
      "C:\\Users\\aless\\anaconda3\\envs\\ML4downsyndrome\\lib\\site-packages\\sklearn\\model_selection\\_search.py:285: UserWarning: The total space of parameters 2 is smaller than n_iter=4. Running 2 iterations. For exhaustive searches, use GridSearchCV.\n",
      "  warnings.warn(\n",
      "C:\\Users\\aless\\anaconda3\\envs\\ML4downsyndrome\\lib\\site-packages\\sklearn\\model_selection\\_search.py:285: UserWarning: The total space of parameters 2 is smaller than n_iter=4. Running 2 iterations. For exhaustive searches, use GridSearchCV.\n",
      "  warnings.warn(\n",
      "C:\\Users\\aless\\anaconda3\\envs\\ML4downsyndrome\\lib\\site-packages\\sklearn\\model_selection\\_search.py:285: UserWarning: The total space of parameters 2 is smaller than n_iter=4. Running 2 iterations. For exhaustive searches, use GridSearchCV.\n",
      "  warnings.warn(\n",
      "C:\\Users\\aless\\anaconda3\\envs\\ML4downsyndrome\\lib\\site-packages\\sklearn\\model_selection\\_search.py:285: UserWarning: The total space of parameters 2 is smaller than n_iter=4. Running 2 iterations. For exhaustive searches, use GridSearchCV.\n",
      "  warnings.warn(\n",
      "C:\\Users\\aless\\anaconda3\\envs\\ML4downsyndrome\\lib\\site-packages\\sklearn\\model_selection\\_search.py:285: UserWarning: The total space of parameters 2 is smaller than n_iter=4. Running 2 iterations. For exhaustive searches, use GridSearchCV.\n",
      "  warnings.warn(\n",
      "C:\\Users\\aless\\anaconda3\\envs\\ML4downsyndrome\\lib\\site-packages\\sklearn\\model_selection\\_search.py:285: UserWarning: The total space of parameters 2 is smaller than n_iter=4. Running 2 iterations. For exhaustive searches, use GridSearchCV.\n",
      "  warnings.warn(\n",
      "C:\\Users\\aless\\anaconda3\\envs\\ML4downsyndrome\\lib\\site-packages\\sklearn\\model_selection\\_search.py:285: UserWarning: The total space of parameters 2 is smaller than n_iter=4. Running 2 iterations. For exhaustive searches, use GridSearchCV.\n",
      "  warnings.warn(\n",
      "C:\\Users\\aless\\anaconda3\\envs\\ML4downsyndrome\\lib\\site-packages\\sklearn\\model_selection\\_search.py:285: UserWarning: The total space of parameters 2 is smaller than n_iter=4. Running 2 iterations. For exhaustive searches, use GridSearchCV.\n",
      "  warnings.warn(\n",
      "C:\\Users\\aless\\anaconda3\\envs\\ML4downsyndrome\\lib\\site-packages\\sklearn\\model_selection\\_search.py:285: UserWarning: The total space of parameters 2 is smaller than n_iter=4. Running 2 iterations. For exhaustive searches, use GridSearchCV.\n",
      "  warnings.warn(\n",
      "C:\\Users\\aless\\anaconda3\\envs\\ML4downsyndrome\\lib\\site-packages\\sklearn\\model_selection\\_search.py:285: UserWarning: The total space of parameters 2 is smaller than n_iter=4. Running 2 iterations. For exhaustive searches, use GridSearchCV.\n",
      "  warnings.warn(\n",
      "C:\\Users\\aless\\anaconda3\\envs\\ML4downsyndrome\\lib\\site-packages\\sklearn\\model_selection\\_search.py:285: UserWarning: The total space of parameters 2 is smaller than n_iter=4. Running 2 iterations. For exhaustive searches, use GridSearchCV.\n",
      "  warnings.warn(\n",
      "C:\\Users\\aless\\anaconda3\\envs\\ML4downsyndrome\\lib\\site-packages\\sklearn\\model_selection\\_search.py:285: UserWarning: The total space of parameters 2 is smaller than n_iter=4. Running 2 iterations. For exhaustive searches, use GridSearchCV.\n",
      "  warnings.warn(\n",
      "C:\\Users\\aless\\anaconda3\\envs\\ML4downsyndrome\\lib\\site-packages\\sklearn\\model_selection\\_search.py:285: UserWarning: The total space of parameters 2 is smaller than n_iter=4. Running 2 iterations. For exhaustive searches, use GridSearchCV.\n",
      "  warnings.warn(\n",
      "C:\\Users\\aless\\anaconda3\\envs\\ML4downsyndrome\\lib\\site-packages\\sklearn\\model_selection\\_search.py:285: UserWarning: The total space of parameters 2 is smaller than n_iter=4. Running 2 iterations. For exhaustive searches, use GridSearchCV.\n",
      "  warnings.warn(\n",
      "C:\\Users\\aless\\anaconda3\\envs\\ML4downsyndrome\\lib\\site-packages\\sklearn\\model_selection\\_search.py:285: UserWarning: The total space of parameters 2 is smaller than n_iter=4. Running 2 iterations. For exhaustive searches, use GridSearchCV.\n",
      "  warnings.warn(\n",
      "C:\\Users\\aless\\anaconda3\\envs\\ML4downsyndrome\\lib\\site-packages\\sklearn\\model_selection\\_search.py:285: UserWarning: The total space of parameters 2 is smaller than n_iter=4. Running 2 iterations. For exhaustive searches, use GridSearchCV.\n",
      "  warnings.warn(\n",
      "C:\\Users\\aless\\anaconda3\\envs\\ML4downsyndrome\\lib\\site-packages\\sklearn\\model_selection\\_search.py:285: UserWarning: The total space of parameters 2 is smaller than n_iter=4. Running 2 iterations. For exhaustive searches, use GridSearchCV.\n",
      "  warnings.warn(\n",
      "C:\\Users\\aless\\anaconda3\\envs\\ML4downsyndrome\\lib\\site-packages\\sklearn\\model_selection\\_search.py:285: UserWarning: The total space of parameters 2 is smaller than n_iter=4. Running 2 iterations. For exhaustive searches, use GridSearchCV.\n",
      "  warnings.warn(\n",
      "C:\\Users\\aless\\anaconda3\\envs\\ML4downsyndrome\\lib\\site-packages\\sklearn\\model_selection\\_search.py:285: UserWarning: The total space of parameters 2 is smaller than n_iter=4. Running 2 iterations. For exhaustive searches, use GridSearchCV.\n",
      "  warnings.warn(\n",
      "C:\\Users\\aless\\anaconda3\\envs\\ML4downsyndrome\\lib\\site-packages\\sklearn\\model_selection\\_search.py:285: UserWarning: The total space of parameters 2 is smaller than n_iter=4. Running 2 iterations. For exhaustive searches, use GridSearchCV.\n",
      "  warnings.warn(\n",
      "C:\\Users\\aless\\anaconda3\\envs\\ML4downsyndrome\\lib\\site-packages\\sklearn\\model_selection\\_search.py:285: UserWarning: The total space of parameters 2 is smaller than n_iter=4. Running 2 iterations. For exhaustive searches, use GridSearchCV.\n",
      "  warnings.warn(\n",
      "C:\\Users\\aless\\anaconda3\\envs\\ML4downsyndrome\\lib\\site-packages\\sklearn\\model_selection\\_search.py:285: UserWarning: The total space of parameters 2 is smaller than n_iter=4. Running 2 iterations. For exhaustive searches, use GridSearchCV.\n",
      "  warnings.warn(\n",
      "C:\\Users\\aless\\anaconda3\\envs\\ML4downsyndrome\\lib\\site-packages\\sklearn\\model_selection\\_search.py:285: UserWarning: The total space of parameters 2 is smaller than n_iter=4. Running 2 iterations. For exhaustive searches, use GridSearchCV.\n",
      "  warnings.warn(\n",
      "C:\\Users\\aless\\anaconda3\\envs\\ML4downsyndrome\\lib\\site-packages\\sklearn\\model_selection\\_search.py:285: UserWarning: The total space of parameters 2 is smaller than n_iter=4. Running 2 iterations. For exhaustive searches, use GridSearchCV.\n",
      "  warnings.warn(\n",
      "C:\\Users\\aless\\anaconda3\\envs\\ML4downsyndrome\\lib\\site-packages\\sklearn\\model_selection\\_search.py:285: UserWarning: The total space of parameters 2 is smaller than n_iter=4. Running 2 iterations. For exhaustive searches, use GridSearchCV.\n",
      "  warnings.warn(\n",
      "C:\\Users\\aless\\anaconda3\\envs\\ML4downsyndrome\\lib\\site-packages\\sklearn\\model_selection\\_search.py:285: UserWarning: The total space of parameters 2 is smaller than n_iter=4. Running 2 iterations. For exhaustive searches, use GridSearchCV.\n",
      "  warnings.warn(\n",
      "C:\\Users\\aless\\anaconda3\\envs\\ML4downsyndrome\\lib\\site-packages\\sklearn\\model_selection\\_search.py:285: UserWarning: The total space of parameters 2 is smaller than n_iter=4. Running 2 iterations. For exhaustive searches, use GridSearchCV.\n",
      "  warnings.warn(\n",
      "C:\\Users\\aless\\anaconda3\\envs\\ML4downsyndrome\\lib\\site-packages\\sklearn\\model_selection\\_search.py:285: UserWarning: The total space of parameters 2 is smaller than n_iter=4. Running 2 iterations. For exhaustive searches, use GridSearchCV.\n",
      "  warnings.warn(\n",
      "C:\\Users\\aless\\anaconda3\\envs\\ML4downsyndrome\\lib\\site-packages\\sklearn\\model_selection\\_search.py:285: UserWarning: The total space of parameters 2 is smaller than n_iter=4. Running 2 iterations. For exhaustive searches, use GridSearchCV.\n",
      "  warnings.warn(\n",
      "C:\\Users\\aless\\anaconda3\\envs\\ML4downsyndrome\\lib\\site-packages\\sklearn\\model_selection\\_search.py:285: UserWarning: The total space of parameters 2 is smaller than n_iter=4. Running 2 iterations. For exhaustive searches, use GridSearchCV.\n",
      "  warnings.warn(\n",
      "C:\\Users\\aless\\anaconda3\\envs\\ML4downsyndrome\\lib\\site-packages\\sklearn\\model_selection\\_search.py:285: UserWarning: The total space of parameters 2 is smaller than n_iter=4. Running 2 iterations. For exhaustive searches, use GridSearchCV.\n",
      "  warnings.warn(\n",
      "C:\\Users\\aless\\anaconda3\\envs\\ML4downsyndrome\\lib\\site-packages\\sklearn\\model_selection\\_search.py:285: UserWarning: The total space of parameters 2 is smaller than n_iter=4. Running 2 iterations. For exhaustive searches, use GridSearchCV.\n",
      "  warnings.warn(\n",
      "C:\\Users\\aless\\anaconda3\\envs\\ML4downsyndrome\\lib\\site-packages\\sklearn\\model_selection\\_search.py:285: UserWarning: The total space of parameters 2 is smaller than n_iter=4. Running 2 iterations. For exhaustive searches, use GridSearchCV.\n",
      "  warnings.warn(\n",
      "C:\\Users\\aless\\anaconda3\\envs\\ML4downsyndrome\\lib\\site-packages\\sklearn\\model_selection\\_search.py:285: UserWarning: The total space of parameters 2 is smaller than n_iter=4. Running 2 iterations. For exhaustive searches, use GridSearchCV.\n",
      "  warnings.warn(\n",
      "C:\\Users\\aless\\anaconda3\\envs\\ML4downsyndrome\\lib\\site-packages\\sklearn\\model_selection\\_search.py:285: UserWarning: The total space of parameters 2 is smaller than n_iter=4. Running 2 iterations. For exhaustive searches, use GridSearchCV.\n",
      "  warnings.warn(\n",
      "C:\\Users\\aless\\anaconda3\\envs\\ML4downsyndrome\\lib\\site-packages\\sklearn\\model_selection\\_search.py:285: UserWarning: The total space of parameters 2 is smaller than n_iter=4. Running 2 iterations. For exhaustive searches, use GridSearchCV.\n",
      "  warnings.warn(\n",
      "C:\\Users\\aless\\anaconda3\\envs\\ML4downsyndrome\\lib\\site-packages\\sklearn\\model_selection\\_search.py:285: UserWarning: The total space of parameters 2 is smaller than n_iter=4. Running 2 iterations. For exhaustive searches, use GridSearchCV.\n",
      "  warnings.warn(\n",
      "C:\\Users\\aless\\anaconda3\\envs\\ML4downsyndrome\\lib\\site-packages\\sklearn\\model_selection\\_search.py:285: UserWarning: The total space of parameters 2 is smaller than n_iter=4. Running 2 iterations. For exhaustive searches, use GridSearchCV.\n",
      "  warnings.warn(\n",
      "C:\\Users\\aless\\anaconda3\\envs\\ML4downsyndrome\\lib\\site-packages\\sklearn\\model_selection\\_search.py:285: UserWarning: The total space of parameters 2 is smaller than n_iter=4. Running 2 iterations. For exhaustive searches, use GridSearchCV.\n",
      "  warnings.warn(\n",
      "C:\\Users\\aless\\anaconda3\\envs\\ML4downsyndrome\\lib\\site-packages\\sklearn\\model_selection\\_search.py:285: UserWarning: The total space of parameters 2 is smaller than n_iter=4. Running 2 iterations. For exhaustive searches, use GridSearchCV.\n",
      "  warnings.warn(\n",
      "C:\\Users\\aless\\anaconda3\\envs\\ML4downsyndrome\\lib\\site-packages\\sklearn\\model_selection\\_search.py:285: UserWarning: The total space of parameters 2 is smaller than n_iter=4. Running 2 iterations. For exhaustive searches, use GridSearchCV.\n",
      "  warnings.warn(\n",
      "C:\\Users\\aless\\anaconda3\\envs\\ML4downsyndrome\\lib\\site-packages\\sklearn\\model_selection\\_search.py:285: UserWarning: The total space of parameters 2 is smaller than n_iter=4. Running 2 iterations. For exhaustive searches, use GridSearchCV.\n",
      "  warnings.warn(\n",
      "C:\\Users\\aless\\anaconda3\\envs\\ML4downsyndrome\\lib\\site-packages\\sklearn\\model_selection\\_search.py:285: UserWarning: The total space of parameters 2 is smaller than n_iter=4. Running 2 iterations. For exhaustive searches, use GridSearchCV.\n",
      "  warnings.warn(\n",
      "C:\\Users\\aless\\anaconda3\\envs\\ML4downsyndrome\\lib\\site-packages\\sklearn\\model_selection\\_search.py:285: UserWarning: The total space of parameters 2 is smaller than n_iter=4. Running 2 iterations. For exhaustive searches, use GridSearchCV.\n",
      "  warnings.warn(\n",
      "C:\\Users\\aless\\anaconda3\\envs\\ML4downsyndrome\\lib\\site-packages\\sklearn\\model_selection\\_search.py:285: UserWarning: The total space of parameters 2 is smaller than n_iter=4. Running 2 iterations. For exhaustive searches, use GridSearchCV.\n",
      "  warnings.warn(\n",
      "C:\\Users\\aless\\anaconda3\\envs\\ML4downsyndrome\\lib\\site-packages\\sklearn\\model_selection\\_search.py:285: UserWarning: The total space of parameters 2 is smaller than n_iter=4. Running 2 iterations. For exhaustive searches, use GridSearchCV.\n",
      "  warnings.warn(\n",
      "C:\\Users\\aless\\anaconda3\\envs\\ML4downsyndrome\\lib\\site-packages\\sklearn\\model_selection\\_search.py:285: UserWarning: The total space of parameters 2 is smaller than n_iter=4. Running 2 iterations. For exhaustive searches, use GridSearchCV.\n",
      "  warnings.warn(\n",
      "C:\\Users\\aless\\anaconda3\\envs\\ML4downsyndrome\\lib\\site-packages\\sklearn\\model_selection\\_search.py:285: UserWarning: The total space of parameters 2 is smaller than n_iter=4. Running 2 iterations. For exhaustive searches, use GridSearchCV.\n",
      "  warnings.warn(\n",
      "C:\\Users\\aless\\anaconda3\\envs\\ML4downsyndrome\\lib\\site-packages\\sklearn\\model_selection\\_search.py:285: UserWarning: The total space of parameters 2 is smaller than n_iter=4. Running 2 iterations. For exhaustive searches, use GridSearchCV.\n",
      "  warnings.warn(\n",
      "C:\\Users\\aless\\anaconda3\\envs\\ML4downsyndrome\\lib\\site-packages\\sklearn\\model_selection\\_search.py:285: UserWarning: The total space of parameters 2 is smaller than n_iter=4. Running 2 iterations. For exhaustive searches, use GridSearchCV.\n",
      "  warnings.warn(\n",
      "C:\\Users\\aless\\anaconda3\\envs\\ML4downsyndrome\\lib\\site-packages\\sklearn\\model_selection\\_search.py:285: UserWarning: The total space of parameters 2 is smaller than n_iter=4. Running 2 iterations. For exhaustive searches, use GridSearchCV.\n",
      "  warnings.warn(\n",
      "C:\\Users\\aless\\anaconda3\\envs\\ML4downsyndrome\\lib\\site-packages\\sklearn\\model_selection\\_search.py:285: UserWarning: The total space of parameters 2 is smaller than n_iter=4. Running 2 iterations. For exhaustive searches, use GridSearchCV.\n",
      "  warnings.warn(\n",
      "C:\\Users\\aless\\anaconda3\\envs\\ML4downsyndrome\\lib\\site-packages\\sklearn\\model_selection\\_search.py:285: UserWarning: The total space of parameters 2 is smaller than n_iter=4. Running 2 iterations. For exhaustive searches, use GridSearchCV.\n",
      "  warnings.warn(\n",
      "C:\\Users\\aless\\anaconda3\\envs\\ML4downsyndrome\\lib\\site-packages\\sklearn\\model_selection\\_search.py:285: UserWarning: The total space of parameters 2 is smaller than n_iter=4. Running 2 iterations. For exhaustive searches, use GridSearchCV.\n",
      "  warnings.warn(\n",
      "C:\\Users\\aless\\anaconda3\\envs\\ML4downsyndrome\\lib\\site-packages\\sklearn\\model_selection\\_search.py:285: UserWarning: The total space of parameters 2 is smaller than n_iter=4. Running 2 iterations. For exhaustive searches, use GridSearchCV.\n",
      "  warnings.warn(\n",
      "C:\\Users\\aless\\anaconda3\\envs\\ML4downsyndrome\\lib\\site-packages\\sklearn\\model_selection\\_search.py:285: UserWarning: The total space of parameters 2 is smaller than n_iter=4. Running 2 iterations. For exhaustive searches, use GridSearchCV.\n",
      "  warnings.warn(\n",
      "C:\\Users\\aless\\anaconda3\\envs\\ML4downsyndrome\\lib\\site-packages\\sklearn\\model_selection\\_search.py:285: UserWarning: The total space of parameters 2 is smaller than n_iter=4. Running 2 iterations. For exhaustive searches, use GridSearchCV.\n",
      "  warnings.warn(\n",
      "C:\\Users\\aless\\anaconda3\\envs\\ML4downsyndrome\\lib\\site-packages\\sklearn\\model_selection\\_search.py:285: UserWarning: The total space of parameters 2 is smaller than n_iter=4. Running 2 iterations. For exhaustive searches, use GridSearchCV.\n",
      "  warnings.warn(\n",
      "C:\\Users\\aless\\anaconda3\\envs\\ML4downsyndrome\\lib\\site-packages\\sklearn\\model_selection\\_search.py:285: UserWarning: The total space of parameters 2 is smaller than n_iter=4. Running 2 iterations. For exhaustive searches, use GridSearchCV.\n",
      "  warnings.warn(\n",
      "C:\\Users\\aless\\anaconda3\\envs\\ML4downsyndrome\\lib\\site-packages\\sklearn\\model_selection\\_search.py:285: UserWarning: The total space of parameters 2 is smaller than n_iter=4. Running 2 iterations. For exhaustive searches, use GridSearchCV.\n",
      "  warnings.warn(\n",
      "C:\\Users\\aless\\anaconda3\\envs\\ML4downsyndrome\\lib\\site-packages\\sklearn\\model_selection\\_search.py:285: UserWarning: The total space of parameters 2 is smaller than n_iter=4. Running 2 iterations. For exhaustive searches, use GridSearchCV.\n",
      "  warnings.warn(\n",
      "C:\\Users\\aless\\anaconda3\\envs\\ML4downsyndrome\\lib\\site-packages\\sklearn\\model_selection\\_search.py:285: UserWarning: The total space of parameters 2 is smaller than n_iter=4. Running 2 iterations. For exhaustive searches, use GridSearchCV.\n",
      "  warnings.warn(\n",
      "C:\\Users\\aless\\anaconda3\\envs\\ML4downsyndrome\\lib\\site-packages\\sklearn\\model_selection\\_search.py:285: UserWarning: The total space of parameters 2 is smaller than n_iter=4. Running 2 iterations. For exhaustive searches, use GridSearchCV.\n",
      "  warnings.warn(\n",
      "C:\\Users\\aless\\anaconda3\\envs\\ML4downsyndrome\\lib\\site-packages\\sklearn\\model_selection\\_search.py:285: UserWarning: The total space of parameters 2 is smaller than n_iter=4. Running 2 iterations. For exhaustive searches, use GridSearchCV.\n",
      "  warnings.warn(\n",
      "C:\\Users\\aless\\anaconda3\\envs\\ML4downsyndrome\\lib\\site-packages\\sklearn\\model_selection\\_search.py:285: UserWarning: The total space of parameters 2 is smaller than n_iter=4. Running 2 iterations. For exhaustive searches, use GridSearchCV.\n",
      "  warnings.warn(\n",
      "C:\\Users\\aless\\anaconda3\\envs\\ML4downsyndrome\\lib\\site-packages\\sklearn\\model_selection\\_search.py:285: UserWarning: The total space of parameters 2 is smaller than n_iter=4. Running 2 iterations. For exhaustive searches, use GridSearchCV.\n",
      "  warnings.warn(\n",
      "C:\\Users\\aless\\anaconda3\\envs\\ML4downsyndrome\\lib\\site-packages\\sklearn\\model_selection\\_search.py:285: UserWarning: The total space of parameters 2 is smaller than n_iter=4. Running 2 iterations. For exhaustive searches, use GridSearchCV.\n",
      "  warnings.warn(\n",
      "C:\\Users\\aless\\anaconda3\\envs\\ML4downsyndrome\\lib\\site-packages\\sklearn\\model_selection\\_search.py:285: UserWarning: The total space of parameters 2 is smaller than n_iter=4. Running 2 iterations. For exhaustive searches, use GridSearchCV.\n",
      "  warnings.warn(\n",
      "C:\\Users\\aless\\anaconda3\\envs\\ML4downsyndrome\\lib\\site-packages\\sklearn\\model_selection\\_search.py:285: UserWarning: The total space of parameters 2 is smaller than n_iter=4. Running 2 iterations. For exhaustive searches, use GridSearchCV.\n",
      "  warnings.warn(\n",
      "C:\\Users\\aless\\anaconda3\\envs\\ML4downsyndrome\\lib\\site-packages\\sklearn\\model_selection\\_search.py:285: UserWarning: The total space of parameters 2 is smaller than n_iter=4. Running 2 iterations. For exhaustive searches, use GridSearchCV.\n",
      "  warnings.warn(\n",
      "C:\\Users\\aless\\anaconda3\\envs\\ML4downsyndrome\\lib\\site-packages\\sklearn\\model_selection\\_search.py:285: UserWarning: The total space of parameters 2 is smaller than n_iter=4. Running 2 iterations. For exhaustive searches, use GridSearchCV.\n",
      "  warnings.warn(\n",
      "C:\\Users\\aless\\anaconda3\\envs\\ML4downsyndrome\\lib\\site-packages\\sklearn\\model_selection\\_search.py:285: UserWarning: The total space of parameters 2 is smaller than n_iter=4. Running 2 iterations. For exhaustive searches, use GridSearchCV.\n",
      "  warnings.warn(\n",
      "C:\\Users\\aless\\anaconda3\\envs\\ML4downsyndrome\\lib\\site-packages\\sklearn\\model_selection\\_search.py:285: UserWarning: The total space of parameters 2 is smaller than n_iter=4. Running 2 iterations. For exhaustive searches, use GridSearchCV.\n",
      "  warnings.warn(\n",
      "C:\\Users\\aless\\anaconda3\\envs\\ML4downsyndrome\\lib\\site-packages\\sklearn\\model_selection\\_search.py:285: UserWarning: The total space of parameters 2 is smaller than n_iter=4. Running 2 iterations. For exhaustive searches, use GridSearchCV.\n",
      "  warnings.warn(\n",
      "C:\\Users\\aless\\anaconda3\\envs\\ML4downsyndrome\\lib\\site-packages\\sklearn\\model_selection\\_search.py:285: UserWarning: The total space of parameters 2 is smaller than n_iter=4. Running 2 iterations. For exhaustive searches, use GridSearchCV.\n",
      "  warnings.warn(\n",
      "C:\\Users\\aless\\anaconda3\\envs\\ML4downsyndrome\\lib\\site-packages\\sklearn\\model_selection\\_search.py:285: UserWarning: The total space of parameters 2 is smaller than n_iter=4. Running 2 iterations. For exhaustive searches, use GridSearchCV.\n",
      "  warnings.warn(\n",
      "C:\\Users\\aless\\anaconda3\\envs\\ML4downsyndrome\\lib\\site-packages\\sklearn\\model_selection\\_search.py:285: UserWarning: The total space of parameters 2 is smaller than n_iter=4. Running 2 iterations. For exhaustive searches, use GridSearchCV.\n",
      "  warnings.warn(\n",
      "C:\\Users\\aless\\anaconda3\\envs\\ML4downsyndrome\\lib\\site-packages\\sklearn\\model_selection\\_search.py:285: UserWarning: The total space of parameters 2 is smaller than n_iter=4. Running 2 iterations. For exhaustive searches, use GridSearchCV.\n",
      "  warnings.warn(\n",
      "C:\\Users\\aless\\anaconda3\\envs\\ML4downsyndrome\\lib\\site-packages\\sklearn\\model_selection\\_search.py:285: UserWarning: The total space of parameters 2 is smaller than n_iter=4. Running 2 iterations. For exhaustive searches, use GridSearchCV.\n",
      "  warnings.warn(\n",
      "C:\\Users\\aless\\anaconda3\\envs\\ML4downsyndrome\\lib\\site-packages\\sklearn\\model_selection\\_search.py:285: UserWarning: The total space of parameters 2 is smaller than n_iter=4. Running 2 iterations. For exhaustive searches, use GridSearchCV.\n",
      "  warnings.warn(\n",
      "C:\\Users\\aless\\anaconda3\\envs\\ML4downsyndrome\\lib\\site-packages\\sklearn\\model_selection\\_search.py:285: UserWarning: The total space of parameters 2 is smaller than n_iter=4. Running 2 iterations. For exhaustive searches, use GridSearchCV.\n",
      "  warnings.warn(\n",
      "C:\\Users\\aless\\anaconda3\\envs\\ML4downsyndrome\\lib\\site-packages\\sklearn\\model_selection\\_search.py:285: UserWarning: The total space of parameters 2 is smaller than n_iter=4. Running 2 iterations. For exhaustive searches, use GridSearchCV.\n",
      "  warnings.warn(\n",
      "C:\\Users\\aless\\anaconda3\\envs\\ML4downsyndrome\\lib\\site-packages\\sklearn\\model_selection\\_search.py:285: UserWarning: The total space of parameters 2 is smaller than n_iter=4. Running 2 iterations. For exhaustive searches, use GridSearchCV.\n",
      "  warnings.warn(\n",
      "C:\\Users\\aless\\anaconda3\\envs\\ML4downsyndrome\\lib\\site-packages\\sklearn\\model_selection\\_search.py:285: UserWarning: The total space of parameters 2 is smaller than n_iter=4. Running 2 iterations. For exhaustive searches, use GridSearchCV.\n",
      "  warnings.warn(\n",
      "C:\\Users\\aless\\anaconda3\\envs\\ML4downsyndrome\\lib\\site-packages\\sklearn\\model_selection\\_search.py:285: UserWarning: The total space of parameters 2 is smaller than n_iter=4. Running 2 iterations. For exhaustive searches, use GridSearchCV.\n",
      "  warnings.warn(\n",
      "C:\\Users\\aless\\anaconda3\\envs\\ML4downsyndrome\\lib\\site-packages\\sklearn\\model_selection\\_search.py:285: UserWarning: The total space of parameters 2 is smaller than n_iter=4. Running 2 iterations. For exhaustive searches, use GridSearchCV.\n",
      "  warnings.warn(\n",
      "C:\\Users\\aless\\anaconda3\\envs\\ML4downsyndrome\\lib\\site-packages\\sklearn\\model_selection\\_search.py:285: UserWarning: The total space of parameters 2 is smaller than n_iter=4. Running 2 iterations. For exhaustive searches, use GridSearchCV.\n",
      "  warnings.warn(\n",
      "C:\\Users\\aless\\anaconda3\\envs\\ML4downsyndrome\\lib\\site-packages\\sklearn\\model_selection\\_search.py:285: UserWarning: The total space of parameters 2 is smaller than n_iter=4. Running 2 iterations. For exhaustive searches, use GridSearchCV.\n",
      "  warnings.warn(\n",
      "C:\\Users\\aless\\anaconda3\\envs\\ML4downsyndrome\\lib\\site-packages\\sklearn\\model_selection\\_search.py:285: UserWarning: The total space of parameters 2 is smaller than n_iter=4. Running 2 iterations. For exhaustive searches, use GridSearchCV.\n",
      "  warnings.warn(\n",
      "C:\\Users\\aless\\anaconda3\\envs\\ML4downsyndrome\\lib\\site-packages\\sklearn\\model_selection\\_search.py:285: UserWarning: The total space of parameters 2 is smaller than n_iter=4. Running 2 iterations. For exhaustive searches, use GridSearchCV.\n",
      "  warnings.warn(\n",
      "C:\\Users\\aless\\anaconda3\\envs\\ML4downsyndrome\\lib\\site-packages\\sklearn\\model_selection\\_search.py:285: UserWarning: The total space of parameters 2 is smaller than n_iter=4. Running 2 iterations. For exhaustive searches, use GridSearchCV.\n",
      "  warnings.warn(\n",
      "C:\\Users\\aless\\anaconda3\\envs\\ML4downsyndrome\\lib\\site-packages\\sklearn\\model_selection\\_search.py:285: UserWarning: The total space of parameters 2 is smaller than n_iter=4. Running 2 iterations. For exhaustive searches, use GridSearchCV.\n",
      "  warnings.warn(\n",
      "C:\\Users\\aless\\anaconda3\\envs\\ML4downsyndrome\\lib\\site-packages\\sklearn\\model_selection\\_search.py:285: UserWarning: The total space of parameters 2 is smaller than n_iter=4. Running 2 iterations. For exhaustive searches, use GridSearchCV.\n",
      "  warnings.warn(\n",
      "C:\\Users\\aless\\anaconda3\\envs\\ML4downsyndrome\\lib\\site-packages\\sklearn\\model_selection\\_search.py:285: UserWarning: The total space of parameters 2 is smaller than n_iter=4. Running 2 iterations. For exhaustive searches, use GridSearchCV.\n",
      "  warnings.warn(\n",
      "C:\\Users\\aless\\anaconda3\\envs\\ML4downsyndrome\\lib\\site-packages\\sklearn\\model_selection\\_search.py:285: UserWarning: The total space of parameters 2 is smaller than n_iter=4. Running 2 iterations. For exhaustive searches, use GridSearchCV.\n",
      "  warnings.warn(\n",
      "C:\\Users\\aless\\anaconda3\\envs\\ML4downsyndrome\\lib\\site-packages\\sklearn\\model_selection\\_search.py:285: UserWarning: The total space of parameters 2 is smaller than n_iter=4. Running 2 iterations. For exhaustive searches, use GridSearchCV.\n",
      "  warnings.warn(\n",
      "C:\\Users\\aless\\anaconda3\\envs\\ML4downsyndrome\\lib\\site-packages\\sklearn\\model_selection\\_search.py:285: UserWarning: The total space of parameters 2 is smaller than n_iter=4. Running 2 iterations. For exhaustive searches, use GridSearchCV.\n",
      "  warnings.warn(\n",
      "C:\\Users\\aless\\anaconda3\\envs\\ML4downsyndrome\\lib\\site-packages\\sklearn\\model_selection\\_search.py:285: UserWarning: The total space of parameters 2 is smaller than n_iter=4. Running 2 iterations. For exhaustive searches, use GridSearchCV.\n",
      "  warnings.warn(\n",
      "C:\\Users\\aless\\anaconda3\\envs\\ML4downsyndrome\\lib\\site-packages\\sklearn\\model_selection\\_search.py:285: UserWarning: The total space of parameters 2 is smaller than n_iter=4. Running 2 iterations. For exhaustive searches, use GridSearchCV.\n",
      "  warnings.warn(\n",
      "C:\\Users\\aless\\anaconda3\\envs\\ML4downsyndrome\\lib\\site-packages\\sklearn\\model_selection\\_search.py:285: UserWarning: The total space of parameters 2 is smaller than n_iter=4. Running 2 iterations. For exhaustive searches, use GridSearchCV.\n",
      "  warnings.warn(\n",
      "C:\\Users\\aless\\anaconda3\\envs\\ML4downsyndrome\\lib\\site-packages\\sklearn\\model_selection\\_search.py:285: UserWarning: The total space of parameters 2 is smaller than n_iter=4. Running 2 iterations. For exhaustive searches, use GridSearchCV.\n",
      "  warnings.warn(\n",
      "C:\\Users\\aless\\anaconda3\\envs\\ML4downsyndrome\\lib\\site-packages\\sklearn\\model_selection\\_search.py:285: UserWarning: The total space of parameters 2 is smaller than n_iter=4. Running 2 iterations. For exhaustive searches, use GridSearchCV.\n",
      "  warnings.warn(\n",
      "C:\\Users\\aless\\anaconda3\\envs\\ML4downsyndrome\\lib\\site-packages\\sklearn\\model_selection\\_search.py:285: UserWarning: The total space of parameters 2 is smaller than n_iter=4. Running 2 iterations. For exhaustive searches, use GridSearchCV.\n",
      "  warnings.warn(\n",
      "C:\\Users\\aless\\anaconda3\\envs\\ML4downsyndrome\\lib\\site-packages\\sklearn\\model_selection\\_search.py:285: UserWarning: The total space of parameters 2 is smaller than n_iter=4. Running 2 iterations. For exhaustive searches, use GridSearchCV.\n",
      "  warnings.warn(\n",
      "C:\\Users\\aless\\anaconda3\\envs\\ML4downsyndrome\\lib\\site-packages\\sklearn\\model_selection\\_search.py:285: UserWarning: The total space of parameters 2 is smaller than n_iter=4. Running 2 iterations. For exhaustive searches, use GridSearchCV.\n",
      "  warnings.warn(\n",
      "C:\\Users\\aless\\anaconda3\\envs\\ML4downsyndrome\\lib\\site-packages\\sklearn\\model_selection\\_search.py:285: UserWarning: The total space of parameters 2 is smaller than n_iter=4. Running 2 iterations. For exhaustive searches, use GridSearchCV.\n",
      "  warnings.warn(\n",
      "C:\\Users\\aless\\anaconda3\\envs\\ML4downsyndrome\\lib\\site-packages\\sklearn\\model_selection\\_search.py:285: UserWarning: The total space of parameters 2 is smaller than n_iter=4. Running 2 iterations. For exhaustive searches, use GridSearchCV.\n",
      "  warnings.warn(\n",
      "C:\\Users\\aless\\anaconda3\\envs\\ML4downsyndrome\\lib\\site-packages\\sklearn\\model_selection\\_search.py:285: UserWarning: The total space of parameters 2 is smaller than n_iter=4. Running 2 iterations. For exhaustive searches, use GridSearchCV.\n",
      "  warnings.warn(\n",
      "C:\\Users\\aless\\anaconda3\\envs\\ML4downsyndrome\\lib\\site-packages\\sklearn\\model_selection\\_search.py:285: UserWarning: The total space of parameters 2 is smaller than n_iter=4. Running 2 iterations. For exhaustive searches, use GridSearchCV.\n",
      "  warnings.warn(\n"
     ]
    }
   ],
   "source": [
    "# no standardization applied\n",
    "base_estimator = MLPRegressor(early_stopping=True, max_iter=5000, learning_rate_init=1e-3)\n",
    "\n",
    "params_distribution = dict(hidden_layer_sizes=[(10,10)], solver=['sgd'], activation=['relu', 'logistic'])\n",
    "\n",
    "config = dict(\n",
    "    mode=mode,\n",
    "    input_attribute=input_attribute,\n",
    "    base_estimator=base_estimator,\n",
    "    params_distribution=params_distribution,\n",
    "    n_iter=4,\n",
    "    cv=cv,\n",
    "    shuffle=True,\n",
    "    scoring=scoring,\n",
    "    random_state=global_random_state,\n",
    "    n_jobs=-1\n",
    ")\n",
    "\n",
    "name = \"NeuralNetwork\"\n",
    "changes = [\"hidden_layer_sizes\"]\n",
    "\n",
    "run_experiment(root, name, changes, df_to_transform, **config)\n",
    "groups_created[name].append(changes)"
   ],
   "metadata": {
    "collapsed": false,
    "pycharm": {
     "name": "#%% Two hidden layers\n"
    }
   }
  },
  {
   "cell_type": "markdown",
   "source": [
    "Build results for all models"
   ],
   "metadata": {
    "collapsed": false,
    "pycharm": {
     "name": "#%% md\n"
    }
   }
  },
  {
   "cell_type": "code",
   "execution_count": 12,
   "outputs": [
    {
     "name": "stdout",
     "output_type": "stream",
     "text": [
      "defaultdict(<class 'list'>, {'RandomForest': [['baseline'], ['max_depth', 'n_estimators'], ['mae']], 'ExtraTrees': [['baseline'], ['max_depth', 'n_estimators'], ['mae']], 'NeuralNetwork': [['baseline'], ['hidden_layer_sizes']]})\n"
     ]
    },
    {
     "data": {
      "text/plain": "                         mean_train_score  mean_test_score  std_train_score  \\\nSesso                            0.235270         0.242759         0.005556   \nScheda colazione                 0.076653         0.079785         0.020472   \nFarmaci                        217.697091       220.241207         5.919775   \nMalattie metaboliche            12.557743        12.906820         0.705495   \nLeucociti (10^3/mmc)             4.410866         4.541330         0.466481   \n...                                   ...              ...              ...   \nMasticatory Disfunction          0.477704         0.495554         0.033044   \nConstipation                     0.480762         0.498459         0.007844   \nDiarrhea                         0.163488         0.170571         0.022684   \nEquivalent age                   9.577180        10.210871         0.397998   \nRatio age                        0.085130         0.089157         0.004350   \n\n                         std_test_score  mean_diff_test_train  \\\nSesso                          0.020948              0.007489   \nScheda colazione               0.082631              0.003132   \nFarmaci                       22.869952              2.544116   \nMalattie metaboliche           2.856481              0.349077   \nLeucociti (10^3/mmc)           1.854120              0.130464   \n...                                 ...                   ...   \nMasticatory Disfunction        0.083101              0.017850   \nConstipation                   0.029739              0.017697   \nDiarrhea                       0.052696              0.007083   \nEquivalent age                 1.547005              0.633690   \nRatio age                      0.015458              0.004027   \n\n                         std_diff_test_train           model_name  \\\nSesso                               0.026404  ExtraTrees_baseline   \nScheda colazione                    0.103100  ExtraTrees_baseline   \nFarmaci                            28.627285  ExtraTrees_baseline   \nMalattie metaboliche                3.561330  ExtraTrees_baseline   \nLeucociti (10^3/mmc)                2.320125  ExtraTrees_baseline   \n...                                      ...                  ...   \nMasticatory Disfunction             0.114927     RandomForest_mae   \nConstipation                        0.032354     RandomForest_mae   \nDiarrhea                            0.071127     RandomForest_mae   \nEquivalent age                      1.896661     RandomForest_mae   \nRatio age                           0.019530     RandomForest_mae   \n\n                                       attribute  \nSesso                                     Sesso   \nScheda colazione                Scheda colazione  \nFarmaci                                  Farmaci  \nMalattie metaboliche        Malattie metaboliche  \nLeucociti (10^3/mmc)        Leucociti (10^3/mmc)  \n...                                          ...  \nMasticatory Disfunction  Masticatory Disfunction  \nConstipation                        Constipation  \nDiarrhea                                Diarrhea  \nEquivalent age                    Equivalent age  \nRatio age                              Ratio age  \n\n[1600 rows x 8 columns]",
      "text/html": "<div>\n<style scoped>\n    .dataframe tbody tr th:only-of-type {\n        vertical-align: middle;\n    }\n\n    .dataframe tbody tr th {\n        vertical-align: top;\n    }\n\n    .dataframe thead th {\n        text-align: right;\n    }\n</style>\n<table border=\"1\" class=\"dataframe\">\n  <thead>\n    <tr style=\"text-align: right;\">\n      <th></th>\n      <th>mean_train_score</th>\n      <th>mean_test_score</th>\n      <th>std_train_score</th>\n      <th>std_test_score</th>\n      <th>mean_diff_test_train</th>\n      <th>std_diff_test_train</th>\n      <th>model_name</th>\n      <th>attribute</th>\n    </tr>\n  </thead>\n  <tbody>\n    <tr>\n      <th>Sesso</th>\n      <td>0.235270</td>\n      <td>0.242759</td>\n      <td>0.005556</td>\n      <td>0.020948</td>\n      <td>0.007489</td>\n      <td>0.026404</td>\n      <td>ExtraTrees_baseline</td>\n      <td>Sesso</td>\n    </tr>\n    <tr>\n      <th>Scheda colazione</th>\n      <td>0.076653</td>\n      <td>0.079785</td>\n      <td>0.020472</td>\n      <td>0.082631</td>\n      <td>0.003132</td>\n      <td>0.103100</td>\n      <td>ExtraTrees_baseline</td>\n      <td>Scheda colazione</td>\n    </tr>\n    <tr>\n      <th>Farmaci</th>\n      <td>217.697091</td>\n      <td>220.241207</td>\n      <td>5.919775</td>\n      <td>22.869952</td>\n      <td>2.544116</td>\n      <td>28.627285</td>\n      <td>ExtraTrees_baseline</td>\n      <td>Farmaci</td>\n    </tr>\n    <tr>\n      <th>Malattie metaboliche</th>\n      <td>12.557743</td>\n      <td>12.906820</td>\n      <td>0.705495</td>\n      <td>2.856481</td>\n      <td>0.349077</td>\n      <td>3.561330</td>\n      <td>ExtraTrees_baseline</td>\n      <td>Malattie metaboliche</td>\n    </tr>\n    <tr>\n      <th>Leucociti (10^3/mmc)</th>\n      <td>4.410866</td>\n      <td>4.541330</td>\n      <td>0.466481</td>\n      <td>1.854120</td>\n      <td>0.130464</td>\n      <td>2.320125</td>\n      <td>ExtraTrees_baseline</td>\n      <td>Leucociti (10^3/mmc)</td>\n    </tr>\n    <tr>\n      <th>...</th>\n      <td>...</td>\n      <td>...</td>\n      <td>...</td>\n      <td>...</td>\n      <td>...</td>\n      <td>...</td>\n      <td>...</td>\n      <td>...</td>\n    </tr>\n    <tr>\n      <th>Masticatory Disfunction</th>\n      <td>0.477704</td>\n      <td>0.495554</td>\n      <td>0.033044</td>\n      <td>0.083101</td>\n      <td>0.017850</td>\n      <td>0.114927</td>\n      <td>RandomForest_mae</td>\n      <td>Masticatory Disfunction</td>\n    </tr>\n    <tr>\n      <th>Constipation</th>\n      <td>0.480762</td>\n      <td>0.498459</td>\n      <td>0.007844</td>\n      <td>0.029739</td>\n      <td>0.017697</td>\n      <td>0.032354</td>\n      <td>RandomForest_mae</td>\n      <td>Constipation</td>\n    </tr>\n    <tr>\n      <th>Diarrhea</th>\n      <td>0.163488</td>\n      <td>0.170571</td>\n      <td>0.022684</td>\n      <td>0.052696</td>\n      <td>0.007083</td>\n      <td>0.071127</td>\n      <td>RandomForest_mae</td>\n      <td>Diarrhea</td>\n    </tr>\n    <tr>\n      <th>Equivalent age</th>\n      <td>9.577180</td>\n      <td>10.210871</td>\n      <td>0.397998</td>\n      <td>1.547005</td>\n      <td>0.633690</td>\n      <td>1.896661</td>\n      <td>RandomForest_mae</td>\n      <td>Equivalent age</td>\n    </tr>\n    <tr>\n      <th>Ratio age</th>\n      <td>0.085130</td>\n      <td>0.089157</td>\n      <td>0.004350</td>\n      <td>0.015458</td>\n      <td>0.004027</td>\n      <td>0.019530</td>\n      <td>RandomForest_mae</td>\n      <td>Ratio age</td>\n    </tr>\n  </tbody>\n</table>\n<p>1600 rows × 8 columns</p>\n</div>"
     },
     "execution_count": 12,
     "metadata": {},
     "output_type": "execute_result"
    }
   ],
   "source": [
    "print(groups_created)\n",
    "build_compare_models_result(root, groups_created)"
   ],
   "metadata": {
    "collapsed": false,
    "pycharm": {
     "name": "#%%\n"
    }
   }
  }
 ],
 "metadata": {
  "kernelspec": {
   "name": "conda-env-ML4downsyndrome-py",
   "language": "python",
   "display_name": "Python [conda env:ML4downsyndrome] *"
  },
  "language_info": {
   "codemirror_mode": {
    "name": "ipython",
    "version": 2
   },
   "file_extension": ".py",
   "mimetype": "text/x-python",
   "name": "python",
   "nbconvert_exporter": "python",
   "pygments_lexer": "ipython2",
   "version": "2.7.6"
  }
 },
 "nbformat": 4,
 "nbformat_minor": 0
}